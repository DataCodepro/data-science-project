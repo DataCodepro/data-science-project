{
 "cells": [
  {
   "cell_type": "code",
   "execution_count": 1,
   "metadata": {
    "execution": {
     "iopub.execute_input": "2020-12-26T14:20:19.405186Z",
     "iopub.status.busy": "2020-12-26T14:20:19.403868Z",
     "iopub.status.idle": "2020-12-26T14:20:22.020980Z",
     "shell.execute_reply": "2020-12-26T14:20:22.020289Z"
    },
    "papermill": {
     "duration": 2.679152,
     "end_time": "2020-12-26T14:20:22.021145",
     "exception": false,
     "start_time": "2020-12-26T14:20:19.341993",
     "status": "completed"
    },
    "tags": []
   },
   "outputs": [
    {
     "name": "stdout",
     "output_type": "stream",
     "text": [
      "/kaggle/input/clinvar-conflicting/clinvar_conflicting.csv\n"
     ]
    }
   ],
   "source": [
    "import pandas as pd\n",
    "import numpy as np\n",
    "import matplotlib.pyplot as plt\n",
    "import seaborn as sns\n",
    "from sklearn.preprocessing import StandardScaler\n",
    "from sklearn.preprocessing import MinMaxScaler \n",
    "from sklearn.preprocessing import RobustScaler\n",
    "from sklearn.model_selection import train_test_split\n",
    "from sklearn.model_selection import GridSearchCV\n",
    "from sklearn.model_selection import RandomizedSearchCV\n",
    "from sklearn.tree import DecisionTreeClassifier\n",
    "from sklearn.ensemble import RandomForestClassifier\n",
    "from xgboost import XGBRegressor\n",
    "from sklearn.feature_selection import RFECV\n",
    "from sklearn.pipeline import Pipeline\n",
    "from sklearn.metrics import classification_report\n",
    "from sklearn.metrics import confusion_matrix\n",
    "from sklearn import metrics\n",
    "import os\n",
    "for dirname, _, filenames in os.walk('/kaggle/input'):\n",
    "    for filename in filenames:\n",
    "        print(os.path.join(dirname, filename))"
   ]
  },
  {
   "cell_type": "code",
   "execution_count": 2,
   "metadata": {
    "execution": {
     "iopub.execute_input": "2020-12-26T14:20:22.123226Z",
     "iopub.status.busy": "2020-12-26T14:20:22.122507Z",
     "iopub.status.idle": "2020-12-26T14:20:23.548127Z",
     "shell.execute_reply": "2020-12-26T14:20:23.548654Z"
    },
    "papermill": {
     "duration": 1.480088,
     "end_time": "2020-12-26T14:20:23.548830",
     "exception": false,
     "start_time": "2020-12-26T14:20:22.068742",
     "status": "completed"
    },
    "tags": []
   },
   "outputs": [
    {
     "name": "stderr",
     "output_type": "stream",
     "text": [
      "/opt/conda/lib/python3.7/site-packages/IPython/core/interactiveshell.py:3063: DtypeWarning: Columns (0,38,40) have mixed types.Specify dtype option on import or set low_memory=False.\n",
      "  interactivity=interactivity, compiler=compiler, result=result)\n"
     ]
    }
   ],
   "source": [
    "gen_var = pd.read_csv('/kaggle/input/clinvar-conflicting/clinvar_conflicting.csv')"
   ]
  },
  {
   "cell_type": "code",
   "execution_count": 3,
   "metadata": {
    "execution": {
     "iopub.execute_input": "2020-12-26T14:20:23.689498Z",
     "iopub.status.busy": "2020-12-26T14:20:23.669185Z",
     "iopub.status.idle": "2020-12-26T14:20:23.709389Z",
     "shell.execute_reply": "2020-12-26T14:20:23.709950Z"
    },
    "papermill": {
     "duration": 0.113342,
     "end_time": "2020-12-26T14:20:23.710094",
     "exception": false,
     "start_time": "2020-12-26T14:20:23.596752",
     "status": "completed"
    },
    "tags": []
   },
   "outputs": [
    {
     "data": {
      "text/html": [
       "<div>\n",
       "<style scoped>\n",
       "    .dataframe tbody tr th:only-of-type {\n",
       "        vertical-align: middle;\n",
       "    }\n",
       "\n",
       "    .dataframe tbody tr th {\n",
       "        vertical-align: top;\n",
       "    }\n",
       "\n",
       "    .dataframe thead th {\n",
       "        text-align: right;\n",
       "    }\n",
       "</style>\n",
       "<table border=\"1\" class=\"dataframe\">\n",
       "  <thead>\n",
       "    <tr style=\"text-align: right;\">\n",
       "      <th></th>\n",
       "      <th>CHROM</th>\n",
       "      <th>POS</th>\n",
       "      <th>REF</th>\n",
       "      <th>ALT</th>\n",
       "      <th>AF_ESP</th>\n",
       "      <th>AF_EXAC</th>\n",
       "      <th>AF_TGP</th>\n",
       "      <th>CLNDISDB</th>\n",
       "      <th>CLNDISDBINCL</th>\n",
       "      <th>CLNDN</th>\n",
       "      <th>...</th>\n",
       "      <th>SIFT</th>\n",
       "      <th>PolyPhen</th>\n",
       "      <th>MOTIF_NAME</th>\n",
       "      <th>MOTIF_POS</th>\n",
       "      <th>HIGH_INF_POS</th>\n",
       "      <th>MOTIF_SCORE_CHANGE</th>\n",
       "      <th>LoFtool</th>\n",
       "      <th>CADD_PHRED</th>\n",
       "      <th>CADD_RAW</th>\n",
       "      <th>BLOSUM62</th>\n",
       "    </tr>\n",
       "  </thead>\n",
       "  <tbody>\n",
       "    <tr>\n",
       "      <th>0</th>\n",
       "      <td>1</td>\n",
       "      <td>1168180</td>\n",
       "      <td>G</td>\n",
       "      <td>C</td>\n",
       "      <td>0.0771</td>\n",
       "      <td>0.10020</td>\n",
       "      <td>0.1066</td>\n",
       "      <td>MedGen:CN169374</td>\n",
       "      <td>NaN</td>\n",
       "      <td>not_specified</td>\n",
       "      <td>...</td>\n",
       "      <td>tolerated</td>\n",
       "      <td>benign</td>\n",
       "      <td>NaN</td>\n",
       "      <td>NaN</td>\n",
       "      <td>NaN</td>\n",
       "      <td>NaN</td>\n",
       "      <td>NaN</td>\n",
       "      <td>1.053</td>\n",
       "      <td>-0.208682</td>\n",
       "      <td>2.0</td>\n",
       "    </tr>\n",
       "    <tr>\n",
       "      <th>1</th>\n",
       "      <td>1</td>\n",
       "      <td>1470752</td>\n",
       "      <td>G</td>\n",
       "      <td>A</td>\n",
       "      <td>0.0000</td>\n",
       "      <td>0.00000</td>\n",
       "      <td>0.0000</td>\n",
       "      <td>MedGen:C1843891,OMIM:607454,Orphanet:ORPHA9877...</td>\n",
       "      <td>NaN</td>\n",
       "      <td>Spinocerebellar_ataxia_21|not_provided</td>\n",
       "      <td>...</td>\n",
       "      <td>deleterious_low_confidence</td>\n",
       "      <td>benign</td>\n",
       "      <td>NaN</td>\n",
       "      <td>NaN</td>\n",
       "      <td>NaN</td>\n",
       "      <td>NaN</td>\n",
       "      <td>NaN</td>\n",
       "      <td>31.000</td>\n",
       "      <td>6.517838</td>\n",
       "      <td>-3.0</td>\n",
       "    </tr>\n",
       "    <tr>\n",
       "      <th>2</th>\n",
       "      <td>1</td>\n",
       "      <td>1737942</td>\n",
       "      <td>A</td>\n",
       "      <td>G</td>\n",
       "      <td>0.0000</td>\n",
       "      <td>0.00001</td>\n",
       "      <td>0.0000</td>\n",
       "      <td>Human_Phenotype_Ontology:HP:0000486,MedGen:C00...</td>\n",
       "      <td>NaN</td>\n",
       "      <td>Strabismus|Nystagmus|Hypothyroidism|Intellectu...</td>\n",
       "      <td>...</td>\n",
       "      <td>deleterious</td>\n",
       "      <td>probably_damaging</td>\n",
       "      <td>NaN</td>\n",
       "      <td>NaN</td>\n",
       "      <td>NaN</td>\n",
       "      <td>NaN</td>\n",
       "      <td>NaN</td>\n",
       "      <td>28.100</td>\n",
       "      <td>6.061752</td>\n",
       "      <td>-1.0</td>\n",
       "    </tr>\n",
       "    <tr>\n",
       "      <th>3</th>\n",
       "      <td>1</td>\n",
       "      <td>2160305</td>\n",
       "      <td>G</td>\n",
       "      <td>A</td>\n",
       "      <td>0.0000</td>\n",
       "      <td>0.00000</td>\n",
       "      <td>0.0000</td>\n",
       "      <td>MedGen:C1321551,OMIM:182212,SNOMED_CT:83092002...</td>\n",
       "      <td>NaN</td>\n",
       "      <td>Shprintzen-Goldberg_syndrome|not_provided</td>\n",
       "      <td>...</td>\n",
       "      <td>NaN</td>\n",
       "      <td>NaN</td>\n",
       "      <td>NaN</td>\n",
       "      <td>NaN</td>\n",
       "      <td>NaN</td>\n",
       "      <td>NaN</td>\n",
       "      <td>NaN</td>\n",
       "      <td>22.500</td>\n",
       "      <td>3.114491</td>\n",
       "      <td>NaN</td>\n",
       "    </tr>\n",
       "    <tr>\n",
       "      <th>4</th>\n",
       "      <td>1</td>\n",
       "      <td>2160305</td>\n",
       "      <td>G</td>\n",
       "      <td>T</td>\n",
       "      <td>0.0000</td>\n",
       "      <td>0.00000</td>\n",
       "      <td>0.0000</td>\n",
       "      <td>MedGen:C1321551,OMIM:182212,SNOMED_CT:83092002</td>\n",
       "      <td>NaN</td>\n",
       "      <td>Shprintzen-Goldberg_syndrome</td>\n",
       "      <td>...</td>\n",
       "      <td>NaN</td>\n",
       "      <td>NaN</td>\n",
       "      <td>NaN</td>\n",
       "      <td>NaN</td>\n",
       "      <td>NaN</td>\n",
       "      <td>NaN</td>\n",
       "      <td>NaN</td>\n",
       "      <td>24.700</td>\n",
       "      <td>4.766224</td>\n",
       "      <td>-3.0</td>\n",
       "    </tr>\n",
       "  </tbody>\n",
       "</table>\n",
       "<p>5 rows × 46 columns</p>\n",
       "</div>"
      ],
      "text/plain": [
       "  CHROM      POS REF ALT  AF_ESP  AF_EXAC  AF_TGP  \\\n",
       "0     1  1168180   G   C  0.0771  0.10020  0.1066   \n",
       "1     1  1470752   G   A  0.0000  0.00000  0.0000   \n",
       "2     1  1737942   A   G  0.0000  0.00001  0.0000   \n",
       "3     1  2160305   G   A  0.0000  0.00000  0.0000   \n",
       "4     1  2160305   G   T  0.0000  0.00000  0.0000   \n",
       "\n",
       "                                            CLNDISDB CLNDISDBINCL  \\\n",
       "0                                    MedGen:CN169374          NaN   \n",
       "1  MedGen:C1843891,OMIM:607454,Orphanet:ORPHA9877...          NaN   \n",
       "2  Human_Phenotype_Ontology:HP:0000486,MedGen:C00...          NaN   \n",
       "3  MedGen:C1321551,OMIM:182212,SNOMED_CT:83092002...          NaN   \n",
       "4     MedGen:C1321551,OMIM:182212,SNOMED_CT:83092002          NaN   \n",
       "\n",
       "                                               CLNDN  ...  \\\n",
       "0                                      not_specified  ...   \n",
       "1             Spinocerebellar_ataxia_21|not_provided  ...   \n",
       "2  Strabismus|Nystagmus|Hypothyroidism|Intellectu...  ...   \n",
       "3          Shprintzen-Goldberg_syndrome|not_provided  ...   \n",
       "4                       Shprintzen-Goldberg_syndrome  ...   \n",
       "\n",
       "                         SIFT           PolyPhen MOTIF_NAME MOTIF_POS  \\\n",
       "0                   tolerated             benign        NaN       NaN   \n",
       "1  deleterious_low_confidence             benign        NaN       NaN   \n",
       "2                 deleterious  probably_damaging        NaN       NaN   \n",
       "3                         NaN                NaN        NaN       NaN   \n",
       "4                         NaN                NaN        NaN       NaN   \n",
       "\n",
       "  HIGH_INF_POS MOTIF_SCORE_CHANGE  LoFtool  CADD_PHRED  CADD_RAW BLOSUM62  \n",
       "0          NaN                NaN      NaN       1.053 -0.208682      2.0  \n",
       "1          NaN                NaN      NaN      31.000  6.517838     -3.0  \n",
       "2          NaN                NaN      NaN      28.100  6.061752     -1.0  \n",
       "3          NaN                NaN      NaN      22.500  3.114491      NaN  \n",
       "4          NaN                NaN      NaN      24.700  4.766224     -3.0  \n",
       "\n",
       "[5 rows x 46 columns]"
      ]
     },
     "execution_count": 3,
     "metadata": {},
     "output_type": "execute_result"
    }
   ],
   "source": [
    "gen_var.head()"
   ]
  },
  {
   "cell_type": "code",
   "execution_count": 4,
   "metadata": {
    "execution": {
     "iopub.execute_input": "2020-12-26T14:20:23.810377Z",
     "iopub.status.busy": "2020-12-26T14:20:23.809635Z",
     "iopub.status.idle": "2020-12-26T14:20:23.813798Z",
     "shell.execute_reply": "2020-12-26T14:20:23.814305Z"
    },
    "papermill": {
     "duration": 0.057469,
     "end_time": "2020-12-26T14:20:23.814458",
     "exception": false,
     "start_time": "2020-12-26T14:20:23.756989",
     "status": "completed"
    },
    "tags": []
   },
   "outputs": [],
   "source": [
    "tot_cols = gen_var.columns"
   ]
  },
  {
   "cell_type": "code",
   "execution_count": 5,
   "metadata": {
    "execution": {
     "iopub.execute_input": "2020-12-26T14:20:23.918105Z",
     "iopub.status.busy": "2020-12-26T14:20:23.916760Z",
     "iopub.status.idle": "2020-12-26T14:20:24.148858Z",
     "shell.execute_reply": "2020-12-26T14:20:24.147984Z"
    },
    "papermill": {
     "duration": 0.286394,
     "end_time": "2020-12-26T14:20:24.149042",
     "exception": false,
     "start_time": "2020-12-26T14:20:23.862648",
     "status": "completed"
    },
    "tags": []
   },
   "outputs": [
    {
     "name": "stdout",
     "output_type": "stream",
     "text": [
      "<class 'pandas.core.frame.DataFrame'>\n",
      "RangeIndex: 65188 entries, 0 to 65187\n",
      "Data columns (total 46 columns):\n",
      " #   Column              Non-Null Count  Dtype  \n",
      "---  ------              --------------  -----  \n",
      " 0   CHROM               65188 non-null  object \n",
      " 1   POS                 65188 non-null  int64  \n",
      " 2   REF                 65188 non-null  object \n",
      " 3   ALT                 65188 non-null  object \n",
      " 4   AF_ESP              65188 non-null  float64\n",
      " 5   AF_EXAC             65188 non-null  float64\n",
      " 6   AF_TGP              65188 non-null  float64\n",
      " 7   CLNDISDB            65188 non-null  object \n",
      " 8   CLNDISDBINCL        167 non-null    object \n",
      " 9   CLNDN               65188 non-null  object \n",
      " 10  CLNDNINCL           167 non-null    object \n",
      " 11  CLNHGVS             65188 non-null  object \n",
      " 12  CLNSIGINCL          167 non-null    object \n",
      " 13  CLNVC               65188 non-null  object \n",
      " 14  CLNVI               27659 non-null  object \n",
      " 15  MC                  64342 non-null  object \n",
      " 16  ORIGIN              65188 non-null  int64  \n",
      " 17  SSR                 130 non-null    float64\n",
      " 18  CLASS               65188 non-null  int64  \n",
      " 19  Allele              65188 non-null  object \n",
      " 20  Consequence         65188 non-null  object \n",
      " 21  IMPACT              65188 non-null  object \n",
      " 22  SYMBOL              65172 non-null  object \n",
      " 23  Feature_type        65174 non-null  object \n",
      " 24  Feature             65174 non-null  object \n",
      " 25  BIOTYPE             65172 non-null  object \n",
      " 26  EXON                56295 non-null  object \n",
      " 27  INTRON              8803 non-null   object \n",
      " 28  cDNA_position       56304 non-null  object \n",
      " 29  CDS_position        55233 non-null  object \n",
      " 30  Protein_position    55233 non-null  object \n",
      " 31  Amino_acids         55184 non-null  object \n",
      " 32  Codons              55184 non-null  object \n",
      " 33  DISTANCE            108 non-null    float64\n",
      " 34  STRAND              65174 non-null  float64\n",
      " 35  BAM_EDIT            31969 non-null  object \n",
      " 36  SIFT                24836 non-null  object \n",
      " 37  PolyPhen            24796 non-null  object \n",
      " 38  MOTIF_NAME          2 non-null      object \n",
      " 39  MOTIF_POS           2 non-null      float64\n",
      " 40  HIGH_INF_POS        2 non-null      object \n",
      " 41  MOTIF_SCORE_CHANGE  2 non-null      float64\n",
      " 42  LoFtool             60975 non-null  float64\n",
      " 43  CADD_PHRED          64096 non-null  float64\n",
      " 44  CADD_RAW            64096 non-null  float64\n",
      " 45  BLOSUM62            25593 non-null  float64\n",
      "dtypes: float64(12), int64(3), object(31)\n",
      "memory usage: 22.9+ MB\n"
     ]
    }
   ],
   "source": [
    "# INFO of the data set\n",
    "gen_var.info()"
   ]
  },
  {
   "cell_type": "code",
   "execution_count": 6,
   "metadata": {
    "execution": {
     "iopub.execute_input": "2020-12-26T14:20:24.262503Z",
     "iopub.status.busy": "2020-12-26T14:20:24.261803Z",
     "iopub.status.idle": "2020-12-26T14:20:24.457864Z",
     "shell.execute_reply": "2020-12-26T14:20:24.456825Z"
    },
    "papermill": {
     "duration": 0.250351,
     "end_time": "2020-12-26T14:20:24.458036",
     "exception": false,
     "start_time": "2020-12-26T14:20:24.207685",
     "status": "completed"
    },
    "tags": []
   },
   "outputs": [
    {
     "data": {
      "text/plain": [
       "MOTIF_SCORE_CHANGE    65186\n",
       "HIGH_INF_POS          65186\n",
       "MOTIF_POS             65186\n",
       "MOTIF_NAME            65186\n",
       "DISTANCE              65080\n",
       "SSR                   65058\n",
       "CLNSIGINCL            65021\n",
       "CLNDNINCL             65021\n",
       "CLNDISDBINCL          65021\n",
       "INTRON                56385\n",
       "PolyPhen              40392\n",
       "SIFT                  40352\n",
       "BLOSUM62              39595\n",
       "CLNVI                 37529\n",
       "BAM_EDIT              33219\n",
       "Codons                10004\n",
       "Amino_acids           10004\n",
       "Protein_position       9955\n",
       "CDS_position           9955\n",
       "EXON                   8893\n",
       "cDNA_position          8884\n",
       "LoFtool                4213\n",
       "CADD_PHRED             1092\n",
       "CADD_RAW               1092\n",
       "MC                      846\n",
       "SYMBOL                   16\n",
       "BIOTYPE                  16\n",
       "Feature_type             14\n",
       "Feature                  14\n",
       "STRAND                   14\n",
       "Allele                    0\n",
       "CLNDISDB                  0\n",
       "POS                       0\n",
       "REF                       0\n",
       "ALT                       0\n",
       "AF_ESP                    0\n",
       "AF_EXAC                   0\n",
       "AF_TGP                    0\n",
       "CLNDN                     0\n",
       "CLASS                     0\n",
       "CLNHGVS                   0\n",
       "CLNVC                     0\n",
       "IMPACT                    0\n",
       "ORIGIN                    0\n",
       "Consequence               0\n",
       "CHROM                     0\n",
       "dtype: int64"
      ]
     },
     "execution_count": 6,
     "metadata": {},
     "output_type": "execute_result"
    }
   ],
   "source": [
    "# Find the nulls\n",
    "gen_var.isnull().sum().sort_values(ascending = False)"
   ]
  },
  {
   "cell_type": "code",
   "execution_count": 7,
   "metadata": {
    "execution": {
     "iopub.execute_input": "2020-12-26T14:20:24.594763Z",
     "iopub.status.busy": "2020-12-26T14:20:24.593192Z",
     "iopub.status.idle": "2020-12-26T14:20:24.599106Z",
     "shell.execute_reply": "2020-12-26T14:20:24.599662Z"
    },
    "papermill": {
     "duration": 0.088171,
     "end_time": "2020-12-26T14:20:24.599851",
     "exception": false,
     "start_time": "2020-12-26T14:20:24.511680",
     "status": "completed"
    },
    "tags": []
   },
   "outputs": [],
   "source": [
    "# Drop columns with nulls more than 65000\n",
    "cols_with_max_nulls = ['MOTIF_SCORE_CHANGE', 'HIGH_INF_POS', 'MOTIF_POS', 'MOTIF_NAME', 'DISTANCE', 'SSR', 'CLNSIGINCL', 'CLNDNINCL', 'CLNDISDBINCL']\n",
    "gen_var.drop(cols_with_max_nulls, axis = 1, inplace = True)"
   ]
  },
  {
   "cell_type": "code",
   "execution_count": 8,
   "metadata": {
    "execution": {
     "iopub.execute_input": "2020-12-26T14:20:24.703089Z",
     "iopub.status.busy": "2020-12-26T14:20:24.701962Z",
     "iopub.status.idle": "2020-12-26T14:20:24.882325Z",
     "shell.execute_reply": "2020-12-26T14:20:24.882938Z"
    },
    "papermill": {
     "duration": 0.233335,
     "end_time": "2020-12-26T14:20:24.883105",
     "exception": false,
     "start_time": "2020-12-26T14:20:24.649770",
     "status": "completed"
    },
    "tags": []
   },
   "outputs": [
    {
     "data": {
      "text/plain": [
       "Index(['INTRON', 'PolyPhen', 'SIFT', 'BLOSUM62', 'CLNVI', 'BAM_EDIT', 'Codons',\n",
       "       'Amino_acids', 'Protein_position', 'CDS_position', 'EXON',\n",
       "       'cDNA_position', 'LoFtool', 'CADD_RAW', 'CADD_PHRED', 'MC', 'SYMBOL',\n",
       "       'BIOTYPE', 'Feature_type', 'STRAND', 'Feature', 'CLNDISDB', 'POS',\n",
       "       'REF', 'ALT', 'AF_ESP', 'AF_EXAC', 'AF_TGP', 'CLNHGVS', 'CLNDN',\n",
       "       'CLNVC', 'ORIGIN', 'CLASS', 'Allele', 'Consequence', 'IMPACT', 'CHROM'],\n",
       "      dtype='object')"
      ]
     },
     "execution_count": 8,
     "metadata": {},
     "output_type": "execute_result"
    }
   ],
   "source": [
    "cols = gen_var.isnull().sum().sort_values(ascending = False)\n",
    "cols.index"
   ]
  },
  {
   "cell_type": "code",
   "execution_count": 9,
   "metadata": {
    "execution": {
     "iopub.execute_input": "2020-12-26T14:20:24.990991Z",
     "iopub.status.busy": "2020-12-26T14:20:24.989851Z",
     "iopub.status.idle": "2020-12-26T14:20:25.181703Z",
     "shell.execute_reply": "2020-12-26T14:20:25.182279Z"
    },
    "papermill": {
     "duration": 0.248644,
     "end_time": "2020-12-26T14:20:25.182448",
     "exception": false,
     "start_time": "2020-12-26T14:20:24.933804",
     "status": "completed"
    },
    "tags": []
   },
   "outputs": [],
   "source": [
    "null_cols = []\n",
    "for col in cols.index:\n",
    "    if gen_var[col].isnull().sum() > 0:\n",
    "        null_cols.append(col)"
   ]
  },
  {
   "cell_type": "code",
   "execution_count": 10,
   "metadata": {
    "execution": {
     "iopub.execute_input": "2020-12-26T14:20:25.285984Z",
     "iopub.status.busy": "2020-12-26T14:20:25.284950Z",
     "iopub.status.idle": "2020-12-26T14:20:25.610378Z",
     "shell.execute_reply": "2020-12-26T14:20:25.609306Z"
    },
    "papermill": {
     "duration": 0.377724,
     "end_time": "2020-12-26T14:20:25.610603",
     "exception": false,
     "start_time": "2020-12-26T14:20:25.232879",
     "status": "completed"
    },
    "tags": []
   },
   "outputs": [
    {
     "name": "stdout",
     "output_type": "stream",
     "text": [
      "INTRON 1930\n",
      "[nan '6/27' '8/17' ... '32/52' '12/47' '2/47']\n",
      "\n",
      "PolyPhen 5\n",
      "['benign' 'probably_damaging' nan 'possibly_damaging' 'unknown']\n",
      "\n",
      "SIFT 5\n",
      "['tolerated' 'deleterious_low_confidence' 'deleterious' nan\n",
      " 'tolerated_low_confidence']\n",
      "\n",
      "BLOSUM62 7\n",
      "[ 2. -3. -1. nan -2.  1.  3.]\n",
      "\n",
      "CLNVI 27655\n",
      "['UniProtKB_(protein):Q96L58#VAR_059317'\n",
      " 'OMIM_Allelic_Variant:616101.0001|UniProtKB_(protein):Q5SV17#VAR_071909'\n",
      " 'OMIM_Allelic_Variant:139380.0002|UniProtKB_(protein):P62873#VAR_076648'\n",
      " ...\n",
      " 'ARUP_Laboratories,_Molecular_Genetics_and_Genomics:149220|Illumina_Clinical_Services_Laboratory,Illumina:582677'\n",
      " 'ARUP_Laboratories,_Molecular_Genetics_and_Genomics:153352|Illumina_Clinical_Services_Laboratory,Illumina:746218'\n",
      " 'Illumina_Clinical_Services_Laboratory,Illumina:628413']\n",
      "\n",
      "BAM_EDIT 3\n",
      "[nan 'OK' 'FAILED']\n",
      "\n",
      "Codons 2221\n",
      "['gaG/gaC' 'cCg/cTg' 'aTc/aCc' ... 'ttg/tATtg' 'gac/gTCGac' 'tTACTC/t']\n",
      "\n",
      "Amino_acids 1263\n",
      "['E/D' 'P/L' 'I/T' ... '-/FGX' 'L/YX' 'D/VD']\n",
      "\n",
      "Protein_position 7340\n",
      "['174' '170' '80' ... '258-260' '2593-2594' '2212-2213']\n",
      "\n",
      "CDS_position 13664\n",
      "['522' '509' '239' ... '248-252' '1491-1492' '1492-1494']\n",
      "\n",
      "EXON 3265\n",
      "['1/1' '4/4' '6/12' ... '38/45' '39/45' '30/53']\n",
      "\n",
      "cDNA_position 13971\n",
      "['552' '523' '632' ... '496-500' '1701-1702' '1702-1704']\n",
      "\n",
      "LoFtool 1196\n",
      "[   nan 0.101  0.021  ... 0.413  0.0837 0.0169]\n",
      "\n",
      "CADD_RAW 63804\n",
      "[-0.208682  6.517838  6.061752 ...  1.412434 -0.592415 -0.786513]\n",
      "\n",
      "CADD_PHRED 9325\n",
      "[ 1.053 31.    28.1   ...  2.688  9.021  3.007]\n",
      "\n",
      "MC 91\n",
      "['SO:0001583|missense_variant'\n",
      " 'SO:0001583|missense_variant,SO:0001623|5_prime_UTR_variant'\n",
      " 'SO:0001583|missense_variant,SO:0001623|5_prime_UTR_variant,SO:0001627|intron_variant'\n",
      " 'SO:0001583|missense_variant,SO:0001627|intron_variant'\n",
      " 'SO:0001583|missense_variant,SO:0001624|3_prime_UTR_variant'\n",
      " 'SO:0001583|missense_variant,SO:0001636|2KB_upstream_variant'\n",
      " 'SO:0001583|missense_variant,SO:0001623|5_prime_UTR_variant,SO:0001624|3_prime_UTR_variant'\n",
      " 'SO:0001583|missense_variant,SO:0001819|synonymous_variant'\n",
      " 'SO:0001583|missense_variant,SO:0001627|intron_variant,SO:0001636|2KB_upstream_variant'\n",
      " 'SO:0001583|missense_variant,SO:0001634|500B_downstream_variant'\n",
      " 'SO:0001583|missense_variant,SO:0001624|3_prime_UTR_variant,SO:0001819|synonymous_variant'\n",
      " 'SO:0001583|missense_variant,SO:0001623|5_prime_UTR_variant,SO:0001627|intron_variant,SO:0001819|synonymous_variant'\n",
      " 'SO:0001583|missense_variant,SO:0001624|3_prime_UTR_variant,SO:0001627|intron_variant'\n",
      " 'SO:0001583|missense_variant,SO:0001623|5_prime_UTR_variant,SO:0001636|2KB_upstream_variant'\n",
      " 'SO:0001575|splice_donor_variant,SO:0001583|missense_variant'\n",
      " 'SO:0001583|missense_variant,SO:0001623|5_prime_UTR_variant,SO:0001627|intron_variant,SO:0001636|2KB_upstream_variant'\n",
      " 'SO:0001819|synonymous_variant' 'SO:0001627|intron_variant'\n",
      " 'SO:0001624|3_prime_UTR_variant' 'SO:0001589|frameshift_variant'\n",
      " 'SO:0001627|intron_variant,SO:0001819|synonymous_variant' nan\n",
      " 'SO:0001627|intron_variant,SO:0001636|2KB_upstream_variant'\n",
      " 'SO:0001587|nonsense' 'SO:0001623|5_prime_UTR_variant'\n",
      " 'SO:0001574|splice_acceptor_variant' 'SO:0001575|splice_donor_variant'\n",
      " 'SO:0001589|frameshift_variant,SO:0001627|intron_variant'\n",
      " 'SO:0001587|nonsense,SO:0001627|intron_variant'\n",
      " 'SO:0001623|5_prime_UTR_variant,SO:0001819|synonymous_variant'\n",
      " 'SO:0001587|nonsense,SO:0001623|5_prime_UTR_variant'\n",
      " 'SO:0001574|splice_acceptor_variant,SO:0001583|missense_variant,SO:0001627|intron_variant'\n",
      " 'SO:0001589|frameshift_variant,SO:0001623|5_prime_UTR_variant'\n",
      " 'SO:0001623|5_prime_UTR_variant,SO:0001636|2KB_upstream_variant'\n",
      " 'SO:0001575|splice_donor_variant,SO:0001627|intron_variant'\n",
      " 'SO:0001575|splice_donor_variant,SO:0001819|synonymous_variant'\n",
      " 'SO:0001636|2KB_upstream_variant'\n",
      " 'SO:0001636|2KB_upstream_variant,SO:0001819|synonymous_variant'\n",
      " 'SO:0001574|splice_acceptor_variant,SO:0001623|5_prime_UTR_variant'\n",
      " 'SO:0001583|missense_variant,SO:0001627|intron_variant,SO:0001819|synonymous_variant'\n",
      " 'SO:0001574|splice_acceptor_variant,SO:0001627|intron_variant'\n",
      " 'SO:0001623|5_prime_UTR_variant,SO:0001627|intron_variant,SO:0001819|synonymous_variant'\n",
      " 'SO:0001587|nonsense,SO:0001623|5_prime_UTR_variant,SO:0001627|intron_variant'\n",
      " 'SO:0001624|3_prime_UTR_variant,SO:0001819|synonymous_variant'\n",
      " 'SO:0001624|3_prime_UTR_variant,SO:0001627|intron_variant'\n",
      " 'SO:0001623|5_prime_UTR_variant,SO:0001627|intron_variant'\n",
      " 'SO:0001624|3_prime_UTR_variant,SO:0001634|500B_downstream_variant'\n",
      " 'SO:0001623|5_prime_UTR_variant,SO:0001627|intron_variant,SO:0001636|2KB_upstream_variant'\n",
      " 'SO:0001623|5_prime_UTR_variant,SO:0001636|2KB_upstream_variant,SO:0001819|synonymous_variant'\n",
      " 'SO:0001587|nonsense,SO:0001624|3_prime_UTR_variant'\n",
      " 'SO:0001589|frameshift_variant,SO:0001623|5_prime_UTR_variant,SO:0001627|intron_variant'\n",
      " 'SO:0001589|frameshift_variant,SO:0001624|3_prime_UTR_variant'\n",
      " 'SO:0001575|splice_donor_variant,SO:0001623|5_prime_UTR_variant'\n",
      " 'SO:0001574|splice_acceptor_variant,SO:0001583|missense_variant'\n",
      " 'SO:0001587|nonsense,SO:0001819|synonymous_variant'\n",
      " 'SO:0001623|5_prime_UTR_variant,SO:0001624|3_prime_UTR_variant'\n",
      " 'SO:0001623|5_prime_UTR_variant,SO:0001624|3_prime_UTR_variant,SO:0001636|2KB_upstream_variant'\n",
      " 'SO:0001583|missense_variant,SO:0001589|frameshift_variant'\n",
      " 'SO:0001575|splice_donor_variant,SO:0001589|frameshift_variant'\n",
      " 'SO:0001587|nonsense,SO:0001624|3_prime_UTR_variant,SO:0001627|intron_variant'\n",
      " 'SO:0001583|missense_variant,SO:0001624|3_prime_UTR_variant,SO:0001634|500B_downstream_variant'\n",
      " 'SO:0001587|nonsense,SO:0001623|5_prime_UTR_variant,SO:0001636|2KB_upstream_variant'\n",
      " 'SO:0001583|missense_variant,SO:0001587|nonsense,SO:0001627|intron_variant'\n",
      " 'SO:0001583|missense_variant,SO:0001587|nonsense'\n",
      " 'SO:0001587|nonsense,SO:0001634|500B_downstream_variant'\n",
      " 'SO:0001574|splice_acceptor_variant,SO:0001589|frameshift_variant'\n",
      " 'SO:0001589|frameshift_variant,SO:0001636|2KB_upstream_variant'\n",
      " 'SO:0001587|nonsense,SO:0001636|2KB_upstream_variant'\n",
      " 'SO:0001589|frameshift_variant,SO:0001623|5_prime_UTR_variant,SO:0001636|2KB_upstream_variant'\n",
      " 'SO:0001624|3_prime_UTR_variant,SO:0001627|intron_variant,SO:0001634|500B_downstream_variant,SO:0001819|synonymous_variant'\n",
      " 'SO:0001624|3_prime_UTR_variant,SO:0001636|2KB_upstream_variant'\n",
      " 'SO:0001634|500B_downstream_variant,SO:0001819|synonymous_variant'\n",
      " 'SO:0001627|intron_variant,SO:0001634|500B_downstream_variant'\n",
      " 'SO:0001627|intron_variant,SO:0001636|2KB_upstream_variant,SO:0001819|synonymous_variant'\n",
      " 'SO:0001575|splice_donor_variant,SO:0001623|5_prime_UTR_variant,SO:0001627|intron_variant'\n",
      " 'SO:0001623|5_prime_UTR_variant,SO:0001627|intron_variant,SO:0001636|2KB_upstream_variant,SO:0001819|synonymous_variant'\n",
      " 'SO:0001574|splice_acceptor_variant,SO:0001583|missense_variant,SO:0001623|5_prime_UTR_variant'\n",
      " 'SO:0001574|splice_acceptor_variant,SO:0001627|intron_variant,SO:0001819|synonymous_variant'\n",
      " 'SO:0001623|5_prime_UTR_variant,SO:0001627|intron_variant,SO:0001634|500B_downstream_variant'\n",
      " 'SO:0001624|3_prime_UTR_variant,SO:0001627|intron_variant,SO:0001636|2KB_upstream_variant'\n",
      " 'SO:0001624|3_prime_UTR_variant,SO:0001627|intron_variant,SO:0001819|synonymous_variant'\n",
      " 'SO:0001583|missense_variant,SO:0001623|5_prime_UTR_variant,SO:0001819|synonymous_variant'\n",
      " 'SO:0001623|5_prime_UTR_variant,SO:0001624|3_prime_UTR_variant,SO:0001819|synonymous_variant'\n",
      " 'SO:0001587|nonsense,SO:0001623|5_prime_UTR_variant,SO:0001819|synonymous_variant'\n",
      " 'SO:0001589|frameshift_variant,SO:0001634|500B_downstream_variant'\n",
      " 'SO:0001575|splice_donor_variant,SO:0001624|3_prime_UTR_variant'\n",
      " 'SO:0001574|splice_acceptor_variant,SO:0001636|2KB_upstream_variant'\n",
      " 'SO:0001583|missense_variant,SO:0001587|nonsense,SO:0001624|3_prime_UTR_variant'\n",
      " 'SO:0001575|splice_donor_variant,SO:0001627|intron_variant,SO:0001634|500B_downstream_variant'\n",
      " 'SO:0001583|missense_variant,SO:0001627|intron_variant,SO:0001634|500B_downstream_variant'\n",
      " 'SO:0001574|splice_acceptor_variant,SO:0001819|synonymous_variant']\n",
      "\n",
      "SYMBOL 2329\n",
      "['B3GALT6' 'TMEM240' 'GNB1' ... 'DKC1' 'RAB39B' 'CLIC2']\n",
      "\n",
      "BIOTYPE 3\n",
      "['protein_coding' 'misc_RNA' nan]\n",
      "\n",
      "Feature_type 3\n",
      "['Transcript' 'MotifFeature' nan]\n",
      "\n",
      "STRAND 3\n",
      "[ 1. -1. nan]\n",
      "\n",
      "Feature 2370\n",
      "['NM_080605.3' 'NM_001114748.1' 'NM_002074.4' ... 'NM_001363.3'\n",
      " 'NM_171998.2' 'XM_005274646.1']\n",
      "\n"
     ]
    }
   ],
   "source": [
    "for col in null_cols:\n",
    "    print(col+' '+str(len(gen_var[col].unique())))\n",
    "    print(gen_var[col].unique())\n",
    "    print()"
   ]
  },
  {
   "cell_type": "code",
   "execution_count": 11,
   "metadata": {
    "execution": {
     "iopub.execute_input": "2020-12-26T14:20:25.729479Z",
     "iopub.status.busy": "2020-12-26T14:20:25.728511Z",
     "iopub.status.idle": "2020-12-26T14:20:25.733945Z",
     "shell.execute_reply": "2020-12-26T14:20:25.733224Z"
    },
    "papermill": {
     "duration": 0.06031,
     "end_time": "2020-12-26T14:20:25.734154",
     "exception": false,
     "start_time": "2020-12-26T14:20:25.673844",
     "status": "completed"
    },
    "tags": []
   },
   "outputs": [
    {
     "data": {
      "text/plain": [
       "['INTRON',\n",
       " 'PolyPhen',\n",
       " 'SIFT',\n",
       " 'BLOSUM62',\n",
       " 'CLNVI',\n",
       " 'BAM_EDIT',\n",
       " 'Codons',\n",
       " 'Amino_acids',\n",
       " 'Protein_position',\n",
       " 'CDS_position',\n",
       " 'EXON',\n",
       " 'cDNA_position',\n",
       " 'LoFtool',\n",
       " 'CADD_RAW',\n",
       " 'CADD_PHRED',\n",
       " 'MC',\n",
       " 'SYMBOL',\n",
       " 'BIOTYPE',\n",
       " 'Feature_type',\n",
       " 'STRAND',\n",
       " 'Feature']"
      ]
     },
     "execution_count": 11,
     "metadata": {},
     "output_type": "execute_result"
    }
   ],
   "source": [
    "null_cols"
   ]
  },
  {
   "cell_type": "code",
   "execution_count": 12,
   "metadata": {
    "execution": {
     "iopub.execute_input": "2020-12-26T14:20:25.841373Z",
     "iopub.status.busy": "2020-12-26T14:20:25.840669Z",
     "iopub.status.idle": "2020-12-26T14:20:26.642073Z",
     "shell.execute_reply": "2020-12-26T14:20:26.641509Z"
    },
    "papermill": {
     "duration": 0.857876,
     "end_time": "2020-12-26T14:20:26.642213",
     "exception": false,
     "start_time": "2020-12-26T14:20:25.784337",
     "status": "completed"
    },
    "tags": []
   },
   "outputs": [
    {
     "data": {
      "text/plain": [
       "<matplotlib.axes._subplots.AxesSubplot at 0x7f22080954d0>"
      ]
     },
     "execution_count": 12,
     "metadata": {},
     "output_type": "execute_result"
    },
    {
     "data": {
      "image/png": "[encoded data removed]",
      "text/plain": [
       "<Figure size 864x720 with 2 Axes>"
      ]
     },
     "metadata": {
      "needs_background": "light"
     },
     "output_type": "display_data"
    }
   ],
   "source": [
    "plt.figure(figsize = (12, 10))\n",
    "sns.heatmap(gen_var.corr(), annot = True, linewidths=.5, cmap = plt.cm.Accent_r)"
   ]
  },
  {
   "cell_type": "code",
   "execution_count": 13,
   "metadata": {
    "execution": {
     "iopub.execute_input": "2020-12-26T14:20:26.765432Z",
     "iopub.status.busy": "2020-12-26T14:20:26.764364Z",
     "iopub.status.idle": "2020-12-26T14:20:26.767385Z",
     "shell.execute_reply": "2020-12-26T14:20:26.767955Z"
    },
    "papermill": {
     "duration": 0.066993,
     "end_time": "2020-12-26T14:20:26.768118",
     "exception": false,
     "start_time": "2020-12-26T14:20:26.701125",
     "status": "completed"
    },
    "tags": []
   },
   "outputs": [],
   "source": [
    "def correlation(dataset, threshold):\n",
    "    col_corr = set()  # Set of all the names of correlated columns\n",
    "    corr_matrix = dataset.corr()\n",
    "    for i in range(len(corr_matrix.columns)):\n",
    "        for j in range(i):\n",
    "            if abs(corr_matrix.iloc[i, j]) > threshold: # we are interested in absolute coeff value\n",
    "                colname = corr_matrix.columns[i]  # getting the name of column\n",
    "                col_corr.add(colname)\n",
    "    return col_corr"
   ]
  },
  {
   "cell_type": "code",
   "execution_count": 14,
   "metadata": {
    "execution": {
     "iopub.execute_input": "2020-12-26T14:20:26.885303Z",
     "iopub.status.busy": "2020-12-26T14:20:26.884625Z",
     "iopub.status.idle": "2020-12-26T14:20:26.921723Z",
     "shell.execute_reply": "2020-12-26T14:20:26.920874Z"
    },
    "papermill": {
     "duration": 0.094904,
     "end_time": "2020-12-26T14:20:26.921846",
     "exception": false,
     "start_time": "2020-12-26T14:20:26.826942",
     "status": "completed"
    },
    "tags": []
   },
   "outputs": [],
   "source": [
    "corr_features = correlation(gen_var.corr(), 0.8)"
   ]
  },
  {
   "cell_type": "code",
   "execution_count": 15,
   "metadata": {
    "execution": {
     "iopub.execute_input": "2020-12-26T14:20:27.071394Z",
     "iopub.status.busy": "2020-12-26T14:20:27.062540Z",
     "iopub.status.idle": "2020-12-26T14:20:27.073942Z",
     "shell.execute_reply": "2020-12-26T14:20:27.074491Z"
    },
    "papermill": {
     "duration": 0.097815,
     "end_time": "2020-12-26T14:20:27.074661",
     "exception": false,
     "start_time": "2020-12-26T14:20:26.976846",
     "status": "completed"
    },
    "tags": []
   },
   "outputs": [],
   "source": [
    "# Drop the correlated features\n",
    "gen_var.drop(corr_features, axis = 1, inplace = True)"
   ]
  },
  {
   "cell_type": "code",
   "execution_count": 16,
   "metadata": {
    "execution": {
     "iopub.execute_input": "2020-12-26T14:20:27.188924Z",
     "iopub.status.busy": "2020-12-26T14:20:27.188255Z",
     "iopub.status.idle": "2020-12-26T14:20:27.192055Z",
     "shell.execute_reply": "2020-12-26T14:20:27.192733Z"
    },
    "papermill": {
     "duration": 0.064464,
     "end_time": "2020-12-26T14:20:27.192893",
     "exception": false,
     "start_time": "2020-12-26T14:20:27.128429",
     "status": "completed"
    },
    "tags": []
   },
   "outputs": [
    {
     "data": {
      "text/plain": [
       "['INTRON',\n",
       " 'PolyPhen',\n",
       " 'SIFT',\n",
       " 'BLOSUM62',\n",
       " 'CLNVI',\n",
       " 'BAM_EDIT',\n",
       " 'Codons',\n",
       " 'Amino_acids',\n",
       " 'Protein_position',\n",
       " 'CDS_position',\n",
       " 'EXON',\n",
       " 'cDNA_position',\n",
       " 'LoFtool',\n",
       " 'CADD_RAW',\n",
       " 'CADD_PHRED',\n",
       " 'MC',\n",
       " 'SYMBOL',\n",
       " 'BIOTYPE',\n",
       " 'Feature_type',\n",
       " 'STRAND',\n",
       " 'Feature']"
      ]
     },
     "execution_count": 16,
     "metadata": {},
     "output_type": "execute_result"
    }
   ],
   "source": [
    "gen_var.shape\n",
    "null_cols"
   ]
  },
  {
   "cell_type": "code",
   "execution_count": 17,
   "metadata": {
    "execution": {
     "iopub.execute_input": "2020-12-26T14:20:27.304489Z",
     "iopub.status.busy": "2020-12-26T14:20:27.303741Z",
     "iopub.status.idle": "2020-12-26T14:20:27.336458Z",
     "shell.execute_reply": "2020-12-26T14:20:27.337016Z"
    },
    "papermill": {
     "duration": 0.090667,
     "end_time": "2020-12-26T14:20:27.337279",
     "exception": false,
     "start_time": "2020-12-26T14:20:27.246612",
     "status": "completed"
    },
    "tags": []
   },
   "outputs": [],
   "source": [
    "# INTRON\n",
    "gen_var.drop('INTRON', axis = 1, inplace = True)"
   ]
  },
  {
   "cell_type": "code",
   "execution_count": 18,
   "metadata": {
    "execution": {
     "iopub.execute_input": "2020-12-26T14:20:27.467116Z",
     "iopub.status.busy": "2020-12-26T14:20:27.466421Z",
     "iopub.status.idle": "2020-12-26T14:20:27.471086Z",
     "shell.execute_reply": "2020-12-26T14:20:27.471617Z"
    },
    "papermill": {
     "duration": 0.080325,
     "end_time": "2020-12-26T14:20:27.471775",
     "exception": false,
     "start_time": "2020-12-26T14:20:27.391450",
     "status": "completed"
    },
    "tags": []
   },
   "outputs": [
    {
     "name": "stdout",
     "output_type": "stream",
     "text": [
      "0    benign\n",
      "dtype: object\n"
     ]
    }
   ],
   "source": [
    "# Polyphen \n",
    "print(gen_var['PolyPhen'].mode())\n",
    "gen_var['PolyPhen'].fillna(value = 'benign', inplace = True)"
   ]
  },
  {
   "cell_type": "code",
   "execution_count": 19,
   "metadata": {
    "execution": {
     "iopub.execute_input": "2020-12-26T14:20:27.601557Z",
     "iopub.status.busy": "2020-12-26T14:20:27.591951Z",
     "iopub.status.idle": "2020-12-26T14:20:27.623146Z",
     "shell.execute_reply": "2020-12-26T14:20:27.622473Z"
    },
    "papermill": {
     "duration": 0.097367,
     "end_time": "2020-12-26T14:20:27.623305",
     "exception": false,
     "start_time": "2020-12-26T14:20:27.525938",
     "status": "completed"
    },
    "tags": []
   },
   "outputs": [
    {
     "name": "stdout",
     "output_type": "stream",
     "text": [
      "40352\n",
      "['tolerated' 'deleterious_low_confidence' 'deleterious' nan\n",
      " 'tolerated_low_confidence']\n",
      "0    deleterious\n",
      "dtype: object\n"
     ]
    }
   ],
   "source": [
    "# SIFT\n",
    "print(gen_var['SIFT'].isnull().sum())\n",
    "print(gen_var['SIFT'].unique())\n",
    "print(gen_var['SIFT'].mode())\n",
    "gen_var['SIFT'].fillna('deleterious', inplace = True)"
   ]
  },
  {
   "cell_type": "code",
   "execution_count": 20,
   "metadata": {
    "execution": {
     "iopub.execute_input": "2020-12-26T14:20:27.749899Z",
     "iopub.status.busy": "2020-12-26T14:20:27.748729Z",
     "iopub.status.idle": "2020-12-26T14:20:27.761607Z",
     "shell.execute_reply": "2020-12-26T14:20:27.762204Z"
    },
    "papermill": {
     "duration": 0.079526,
     "end_time": "2020-12-26T14:20:27.762423",
     "exception": false,
     "start_time": "2020-12-26T14:20:27.682897",
     "status": "completed"
    },
    "tags": []
   },
   "outputs": [
    {
     "name": "stdout",
     "output_type": "stream",
     "text": [
      "39595\n",
      "[ 2. -3. -1. nan -2.  1.  3.]\n",
      "0    1.0\n",
      "dtype: float64\n"
     ]
    }
   ],
   "source": [
    "# BLOSUM62\n",
    "print(gen_var['BLOSUM62'].isnull().sum())\n",
    "print(gen_var['BLOSUM62'].unique())\n",
    "print(gen_var['BLOSUM62'].mode())\n",
    "gen_var['BLOSUM62'] = gen_var['BLOSUM62'].fillna(1.0)"
   ]
  },
  {
   "cell_type": "code",
   "execution_count": 21,
   "metadata": {
    "execution": {
     "iopub.execute_input": "2020-12-26T14:20:27.929824Z",
     "iopub.status.busy": "2020-12-26T14:20:27.918201Z",
     "iopub.status.idle": "2020-12-26T14:20:27.955826Z",
     "shell.execute_reply": "2020-12-26T14:20:27.957116Z"
    },
    "papermill": {
     "duration": 0.119382,
     "end_time": "2020-12-26T14:20:27.957413",
     "exception": false,
     "start_time": "2020-12-26T14:20:27.838031",
     "status": "completed"
    },
    "tags": []
   },
   "outputs": [
    {
     "name": "stdout",
     "output_type": "stream",
     "text": [
      "37529\n",
      "['UniProtKB_(protein):Q96L58#VAR_059317'\n",
      " 'OMIM_Allelic_Variant:616101.0001|UniProtKB_(protein):Q5SV17#VAR_071909'\n",
      " 'OMIM_Allelic_Variant:139380.0002|UniProtKB_(protein):P62873#VAR_076648'\n",
      " ...\n",
      " 'ARUP_Laboratories,_Molecular_Genetics_and_Genomics:149220|Illumina_Clinical_Services_Laboratory,Illumina:582677'\n",
      " 'ARUP_Laboratories,_Molecular_Genetics_and_Genomics:153352|Illumina_Clinical_Services_Laboratory,Illumina:746218'\n",
      " 'Illumina_Clinical_Services_Laboratory,Illumina:628413']\n"
     ]
    }
   ],
   "source": [
    "# CLNVI\n",
    "print(gen_var['CLNVI'].isnull().sum())\n",
    "print(gen_var['CLNVI'].unique())\n",
    "gen_var.drop('CLNVI', axis = 1, inplace = True)"
   ]
  },
  {
   "cell_type": "code",
   "execution_count": 22,
   "metadata": {
    "execution": {
     "iopub.execute_input": "2020-12-26T14:20:28.120577Z",
     "iopub.status.busy": "2020-12-26T14:20:28.119546Z",
     "iopub.status.idle": "2020-12-26T14:20:28.160379Z",
     "shell.execute_reply": "2020-12-26T14:20:28.161379Z"
    },
    "papermill": {
     "duration": 0.133751,
     "end_time": "2020-12-26T14:20:28.161608",
     "exception": false,
     "start_time": "2020-12-26T14:20:28.027857",
     "status": "completed"
    },
    "tags": []
   },
   "outputs": [
    {
     "name": "stdout",
     "output_type": "stream",
     "text": [
      "33219\n",
      "[nan 'OK' 'FAILED']\n",
      "0    OK\n",
      "dtype: object\n"
     ]
    }
   ],
   "source": [
    "# BAM_EDIT\n",
    "print(gen_var['BAM_EDIT'].isnull().sum())\n",
    "print(gen_var['BAM_EDIT'].unique())\n",
    "print(gen_var['BAM_EDIT'].mode())\n",
    "gen_var['BAM_EDIT'] = gen_var['BAM_EDIT'].fillna('OK')"
   ]
  },
  {
   "cell_type": "code",
   "execution_count": 23,
   "metadata": {
    "execution": {
     "iopub.execute_input": "2020-12-26T14:20:28.302363Z",
     "iopub.status.busy": "2020-12-26T14:20:28.301379Z",
     "iopub.status.idle": "2020-12-26T14:20:28.335205Z",
     "shell.execute_reply": "2020-12-26T14:20:28.336212Z"
    },
    "papermill": {
     "duration": 0.104865,
     "end_time": "2020-12-26T14:20:28.336397",
     "exception": false,
     "start_time": "2020-12-26T14:20:28.231532",
     "status": "completed"
    },
    "tags": []
   },
   "outputs": [
    {
     "name": "stdout",
     "output_type": "stream",
     "text": [
      "10004\n",
      "['gaG/gaC' 'cCg/cTg' 'aTc/aCc' ... 'ttg/tATtg' 'gac/gTCGac' 'tTACTC/t']\n",
      "0    cGg/cAg\n",
      "dtype: object\n"
     ]
    }
   ],
   "source": [
    "# Codons\n",
    "print(gen_var['Codons'].isnull().sum())\n",
    "print(gen_var['Codons'].unique())\n",
    "print(gen_var['Codons'].mode())\n",
    "gen_var['Codons'] = gen_var['Codons'].fillna('cGg/cAg')"
   ]
  },
  {
   "cell_type": "code",
   "execution_count": 24,
   "metadata": {
    "execution": {
     "iopub.execute_input": "2020-12-26T14:20:28.454896Z",
     "iopub.status.busy": "2020-12-26T14:20:28.453870Z",
     "iopub.status.idle": "2020-12-26T14:20:28.565263Z",
     "shell.execute_reply": "2020-12-26T14:20:28.565898Z"
    },
    "papermill": {
     "duration": 0.17234,
     "end_time": "2020-12-26T14:20:28.566037",
     "exception": false,
     "start_time": "2020-12-26T14:20:28.393697",
     "status": "completed"
    },
    "tags": []
   },
   "outputs": [
    {
     "name": "stdout",
     "output_type": "stream",
     "text": [
      "10004\n",
      "['E/D' 'P/L' 'I/T' ... '-/FGX' 'L/YX' 'D/VD']\n",
      "0    A\n",
      "dtype: object\n"
     ]
    },
    {
     "data": {
      "text/html": [
       "<div>\n",
       "<style scoped>\n",
       "    .dataframe tbody tr th:only-of-type {\n",
       "        vertical-align: middle;\n",
       "    }\n",
       "\n",
       "    .dataframe tbody tr th {\n",
       "        vertical-align: top;\n",
       "    }\n",
       "\n",
       "    .dataframe thead th {\n",
       "        text-align: right;\n",
       "    }\n",
       "</style>\n",
       "<table border=\"1\" class=\"dataframe\">\n",
       "  <thead>\n",
       "    <tr style=\"text-align: right;\">\n",
       "      <th></th>\n",
       "      <th>CHROM</th>\n",
       "      <th>POS</th>\n",
       "      <th>REF</th>\n",
       "      <th>ALT</th>\n",
       "      <th>AF_ESP</th>\n",
       "      <th>CLNDISDB</th>\n",
       "      <th>CLNDN</th>\n",
       "      <th>CLNHGVS</th>\n",
       "      <th>CLNVC</th>\n",
       "      <th>MC</th>\n",
       "      <th>...</th>\n",
       "      <th>Protein_position</th>\n",
       "      <th>Amino_acids</th>\n",
       "      <th>Codons</th>\n",
       "      <th>STRAND</th>\n",
       "      <th>BAM_EDIT</th>\n",
       "      <th>SIFT</th>\n",
       "      <th>PolyPhen</th>\n",
       "      <th>LoFtool</th>\n",
       "      <th>CADD_PHRED</th>\n",
       "      <th>BLOSUM62</th>\n",
       "    </tr>\n",
       "  </thead>\n",
       "  <tbody>\n",
       "    <tr>\n",
       "      <th>1226</th>\n",
       "      <td>3</td>\n",
       "      <td>38655243</td>\n",
       "      <td>C</td>\n",
       "      <td>T</td>\n",
       "      <td>0.0003</td>\n",
       "      <td>MedGen:C1142166,Orphanet:ORPHA130,SNOMED_CT:41...</td>\n",
       "      <td>Brugada_syndrome|not_specified|Brugada_syndrom...</td>\n",
       "      <td>NC_000003.11:g.38655243C&gt;T</td>\n",
       "      <td>single_nucleotide_variant</td>\n",
       "      <td>SO:0001583|missense_variant,SO:0001627|intron_...</td>\n",
       "      <td>...</td>\n",
       "      <td>NaN</td>\n",
       "      <td>A</td>\n",
       "      <td>cGg/cAg</td>\n",
       "      <td>-1.0</td>\n",
       "      <td>OK</td>\n",
       "      <td>deleterious</td>\n",
       "      <td>benign</td>\n",
       "      <td>0.000413</td>\n",
       "      <td>20.700</td>\n",
       "      <td>1.0</td>\n",
       "    </tr>\n",
       "    <tr>\n",
       "      <th>1227</th>\n",
       "      <td>3</td>\n",
       "      <td>38655260</td>\n",
       "      <td>G</td>\n",
       "      <td>A</td>\n",
       "      <td>0.0000</td>\n",
       "      <td>MedGen:C1142166,Orphanet:ORPHA130,SNOMED_CT:41...</td>\n",
       "      <td>Brugada_syndrome|not_specified</td>\n",
       "      <td>NC_000003.11:g.38655260G&gt;A</td>\n",
       "      <td>single_nucleotide_variant</td>\n",
       "      <td>SO:0001583|missense_variant,SO:0001627|intron_...</td>\n",
       "      <td>...</td>\n",
       "      <td>NaN</td>\n",
       "      <td>A</td>\n",
       "      <td>cGg/cAg</td>\n",
       "      <td>-1.0</td>\n",
       "      <td>OK</td>\n",
       "      <td>deleterious</td>\n",
       "      <td>benign</td>\n",
       "      <td>0.000413</td>\n",
       "      <td>19.410</td>\n",
       "      <td>1.0</td>\n",
       "    </tr>\n",
       "    <tr>\n",
       "      <th>1228</th>\n",
       "      <td>3</td>\n",
       "      <td>38655264</td>\n",
       "      <td>G</td>\n",
       "      <td>A</td>\n",
       "      <td>0.0001</td>\n",
       "      <td>EFO:EFO_0005137,MedGen:C2748542|MedGen:C114189...</td>\n",
       "      <td>Cardiac_conduction_defect,_nonspecific|Congeni...</td>\n",
       "      <td>NC_000003.11:g.38655264G&gt;A</td>\n",
       "      <td>single_nucleotide_variant</td>\n",
       "      <td>SO:0001583|missense_variant,SO:0001627|intron_...</td>\n",
       "      <td>...</td>\n",
       "      <td>NaN</td>\n",
       "      <td>A</td>\n",
       "      <td>cGg/cAg</td>\n",
       "      <td>-1.0</td>\n",
       "      <td>OK</td>\n",
       "      <td>deleterious</td>\n",
       "      <td>benign</td>\n",
       "      <td>0.000413</td>\n",
       "      <td>18.780</td>\n",
       "      <td>1.0</td>\n",
       "    </tr>\n",
       "    <tr>\n",
       "      <th>1229</th>\n",
       "      <td>3</td>\n",
       "      <td>38655272</td>\n",
       "      <td>C</td>\n",
       "      <td>T</td>\n",
       "      <td>0.0000</td>\n",
       "      <td>EFO:EFO_0000407,Human_Phenotype_Ontology:HP:00...</td>\n",
       "      <td>Primary_dilated_cardiomyopathy|Congenital_long...</td>\n",
       "      <td>NC_000003.11:g.38655272C&gt;T</td>\n",
       "      <td>single_nucleotide_variant</td>\n",
       "      <td>SO:0001583|missense_variant,SO:0001627|intron_...</td>\n",
       "      <td>...</td>\n",
       "      <td>NaN</td>\n",
       "      <td>A</td>\n",
       "      <td>cGg/cAg</td>\n",
       "      <td>-1.0</td>\n",
       "      <td>OK</td>\n",
       "      <td>deleterious</td>\n",
       "      <td>benign</td>\n",
       "      <td>0.000413</td>\n",
       "      <td>20.200</td>\n",
       "      <td>1.0</td>\n",
       "    </tr>\n",
       "    <tr>\n",
       "      <th>1230</th>\n",
       "      <td>3</td>\n",
       "      <td>38655278</td>\n",
       "      <td>G</td>\n",
       "      <td>A</td>\n",
       "      <td>0.0003</td>\n",
       "      <td>MedGen:C1142166,Orphanet:ORPHA130,SNOMED_CT:41...</td>\n",
       "      <td>Brugada_syndrome|Dilated_cardiomyopathy_1E|Sic...</td>\n",
       "      <td>NC_000003.11:g.38655278G&gt;A</td>\n",
       "      <td>single_nucleotide_variant</td>\n",
       "      <td>SO:0001583|missense_variant,SO:0001627|intron_...</td>\n",
       "      <td>...</td>\n",
       "      <td>NaN</td>\n",
       "      <td>A</td>\n",
       "      <td>cGg/cAg</td>\n",
       "      <td>-1.0</td>\n",
       "      <td>OK</td>\n",
       "      <td>deleterious</td>\n",
       "      <td>benign</td>\n",
       "      <td>0.000413</td>\n",
       "      <td>20.700</td>\n",
       "      <td>1.0</td>\n",
       "    </tr>\n",
       "    <tr>\n",
       "      <th>...</th>\n",
       "      <td>...</td>\n",
       "      <td>...</td>\n",
       "      <td>...</td>\n",
       "      <td>...</td>\n",
       "      <td>...</td>\n",
       "      <td>...</td>\n",
       "      <td>...</td>\n",
       "      <td>...</td>\n",
       "      <td>...</td>\n",
       "      <td>...</td>\n",
       "      <td>...</td>\n",
       "      <td>...</td>\n",
       "      <td>...</td>\n",
       "      <td>...</td>\n",
       "      <td>...</td>\n",
       "      <td>...</td>\n",
       "      <td>...</td>\n",
       "      <td>...</td>\n",
       "      <td>...</td>\n",
       "      <td>...</td>\n",
       "      <td>...</td>\n",
       "    </tr>\n",
       "    <tr>\n",
       "      <th>65173</th>\n",
       "      <td>X</td>\n",
       "      <td>153991099</td>\n",
       "      <td>C</td>\n",
       "      <td>G</td>\n",
       "      <td>0.0000</td>\n",
       "      <td>MedGen:C1148551,OMIM:305000|MedGen:CN169374|Me...</td>\n",
       "      <td>Dyskeratosis_congenita_X-linked|not_specified|...</td>\n",
       "      <td>NC_000023.10:g.153991099C&gt;G</td>\n",
       "      <td>single_nucleotide_variant</td>\n",
       "      <td>SO:0001623|5_prime_UTR_variant</td>\n",
       "      <td>...</td>\n",
       "      <td>NaN</td>\n",
       "      <td>A</td>\n",
       "      <td>cGg/cAg</td>\n",
       "      <td>1.0</td>\n",
       "      <td>OK</td>\n",
       "      <td>deleterious</td>\n",
       "      <td>benign</td>\n",
       "      <td>NaN</td>\n",
       "      <td>6.581</td>\n",
       "      <td>1.0</td>\n",
       "    </tr>\n",
       "    <tr>\n",
       "      <th>65177</th>\n",
       "      <td>X</td>\n",
       "      <td>154004584</td>\n",
       "      <td>C</td>\n",
       "      <td>T</td>\n",
       "      <td>0.0888</td>\n",
       "      <td>MedGen:CN169374</td>\n",
       "      <td>not_specified</td>\n",
       "      <td>NC_000023.10:g.154004584C&gt;T</td>\n",
       "      <td>single_nucleotide_variant</td>\n",
       "      <td>SO:0001624|3_prime_UTR_variant,SO:0001819|syno...</td>\n",
       "      <td>...</td>\n",
       "      <td>487</td>\n",
       "      <td>A</td>\n",
       "      <td>gcC/gcT</td>\n",
       "      <td>1.0</td>\n",
       "      <td>OK</td>\n",
       "      <td>deleterious</td>\n",
       "      <td>benign</td>\n",
       "      <td>NaN</td>\n",
       "      <td>14.260</td>\n",
       "      <td>1.0</td>\n",
       "    </tr>\n",
       "    <tr>\n",
       "      <th>65180</th>\n",
       "      <td>X</td>\n",
       "      <td>154005148</td>\n",
       "      <td>G</td>\n",
       "      <td>A</td>\n",
       "      <td>0.0708</td>\n",
       "      <td>MedGen:CN169374</td>\n",
       "      <td>not_specified</td>\n",
       "      <td>NC_000023.10:g.154005148G&gt;A</td>\n",
       "      <td>single_nucleotide_variant</td>\n",
       "      <td>SO:0001624|3_prime_UTR_variant</td>\n",
       "      <td>...</td>\n",
       "      <td>NaN</td>\n",
       "      <td>A</td>\n",
       "      <td>cGg/cAg</td>\n",
       "      <td>1.0</td>\n",
       "      <td>OK</td>\n",
       "      <td>deleterious</td>\n",
       "      <td>benign</td>\n",
       "      <td>NaN</td>\n",
       "      <td>6.255</td>\n",
       "      <td>1.0</td>\n",
       "    </tr>\n",
       "    <tr>\n",
       "      <th>65181</th>\n",
       "      <td>X</td>\n",
       "      <td>154065843</td>\n",
       "      <td>G</td>\n",
       "      <td>A</td>\n",
       "      <td>0.0159</td>\n",
       "      <td>MedGen:CN169374|MedGen:CN239152</td>\n",
       "      <td>not_specified|Hemophilia_A,_FVIII_Deficiency</td>\n",
       "      <td>NC_000023.10:g.154065843G&gt;A</td>\n",
       "      <td>single_nucleotide_variant</td>\n",
       "      <td>SO:0001624|3_prime_UTR_variant</td>\n",
       "      <td>...</td>\n",
       "      <td>NaN</td>\n",
       "      <td>A</td>\n",
       "      <td>cGg/cAg</td>\n",
       "      <td>-1.0</td>\n",
       "      <td>OK</td>\n",
       "      <td>deleterious</td>\n",
       "      <td>benign</td>\n",
       "      <td>0.001580</td>\n",
       "      <td>3.007</td>\n",
       "      <td>1.0</td>\n",
       "    </tr>\n",
       "    <tr>\n",
       "      <th>65185</th>\n",
       "      <td>X</td>\n",
       "      <td>154194886</td>\n",
       "      <td>C</td>\n",
       "      <td>T</td>\n",
       "      <td>0.0125</td>\n",
       "      <td>MedGen:CN169374|MedGen:CN239152</td>\n",
       "      <td>not_specified|Hemophilia_A,_FVIII_Deficiency</td>\n",
       "      <td>NC_000023.10:g.154194886C&gt;T</td>\n",
       "      <td>single_nucleotide_variant</td>\n",
       "      <td>SO:0001819|synonymous_variant</td>\n",
       "      <td>...</td>\n",
       "      <td>362</td>\n",
       "      <td>A</td>\n",
       "      <td>gcG/gcA</td>\n",
       "      <td>-1.0</td>\n",
       "      <td>OK</td>\n",
       "      <td>deleterious</td>\n",
       "      <td>benign</td>\n",
       "      <td>0.001580</td>\n",
       "      <td>12.850</td>\n",
       "      <td>1.0</td>\n",
       "    </tr>\n",
       "  </tbody>\n",
       "</table>\n",
       "<p>12009 rows × 32 columns</p>\n",
       "</div>"
      ],
      "text/plain": [
       "      CHROM        POS REF ALT  AF_ESP  \\\n",
       "1226      3   38655243   C   T  0.0003   \n",
       "1227      3   38655260   G   A  0.0000   \n",
       "1228      3   38655264   G   A  0.0001   \n",
       "1229      3   38655272   C   T  0.0000   \n",
       "1230      3   38655278   G   A  0.0003   \n",
       "...     ...        ...  ..  ..     ...   \n",
       "65173     X  153991099   C   G  0.0000   \n",
       "65177     X  154004584   C   T  0.0888   \n",
       "65180     X  154005148   G   A  0.0708   \n",
       "65181     X  154065843   G   A  0.0159   \n",
       "65185     X  154194886   C   T  0.0125   \n",
       "\n",
       "                                                CLNDISDB  \\\n",
       "1226   MedGen:C1142166,Orphanet:ORPHA130,SNOMED_CT:41...   \n",
       "1227   MedGen:C1142166,Orphanet:ORPHA130,SNOMED_CT:41...   \n",
       "1228   EFO:EFO_0005137,MedGen:C2748542|MedGen:C114189...   \n",
       "1229   EFO:EFO_0000407,Human_Phenotype_Ontology:HP:00...   \n",
       "1230   MedGen:C1142166,Orphanet:ORPHA130,SNOMED_CT:41...   \n",
       "...                                                  ...   \n",
       "65173  MedGen:C1148551,OMIM:305000|MedGen:CN169374|Me...   \n",
       "65177                                    MedGen:CN169374   \n",
       "65180                                    MedGen:CN169374   \n",
       "65181                    MedGen:CN169374|MedGen:CN239152   \n",
       "65185                    MedGen:CN169374|MedGen:CN239152   \n",
       "\n",
       "                                                   CLNDN  \\\n",
       "1226   Brugada_syndrome|not_specified|Brugada_syndrom...   \n",
       "1227                      Brugada_syndrome|not_specified   \n",
       "1228   Cardiac_conduction_defect,_nonspecific|Congeni...   \n",
       "1229   Primary_dilated_cardiomyopathy|Congenital_long...   \n",
       "1230   Brugada_syndrome|Dilated_cardiomyopathy_1E|Sic...   \n",
       "...                                                  ...   \n",
       "65173  Dyskeratosis_congenita_X-linked|not_specified|...   \n",
       "65177                                      not_specified   \n",
       "65180                                      not_specified   \n",
       "65181       not_specified|Hemophilia_A,_FVIII_Deficiency   \n",
       "65185       not_specified|Hemophilia_A,_FVIII_Deficiency   \n",
       "\n",
       "                           CLNHGVS                      CLNVC  \\\n",
       "1226    NC_000003.11:g.38655243C>T  single_nucleotide_variant   \n",
       "1227    NC_000003.11:g.38655260G>A  single_nucleotide_variant   \n",
       "1228    NC_000003.11:g.38655264G>A  single_nucleotide_variant   \n",
       "1229    NC_000003.11:g.38655272C>T  single_nucleotide_variant   \n",
       "1230    NC_000003.11:g.38655278G>A  single_nucleotide_variant   \n",
       "...                            ...                        ...   \n",
       "65173  NC_000023.10:g.153991099C>G  single_nucleotide_variant   \n",
       "65177  NC_000023.10:g.154004584C>T  single_nucleotide_variant   \n",
       "65180  NC_000023.10:g.154005148G>A  single_nucleotide_variant   \n",
       "65181  NC_000023.10:g.154065843G>A  single_nucleotide_variant   \n",
       "65185  NC_000023.10:g.154194886C>T  single_nucleotide_variant   \n",
       "\n",
       "                                                      MC  ...  \\\n",
       "1226   SO:0001583|missense_variant,SO:0001627|intron_...  ...   \n",
       "1227   SO:0001583|missense_variant,SO:0001627|intron_...  ...   \n",
       "1228   SO:0001583|missense_variant,SO:0001627|intron_...  ...   \n",
       "1229   SO:0001583|missense_variant,SO:0001627|intron_...  ...   \n",
       "1230   SO:0001583|missense_variant,SO:0001627|intron_...  ...   \n",
       "...                                                  ...  ...   \n",
       "65173                     SO:0001623|5_prime_UTR_variant  ...   \n",
       "65177  SO:0001624|3_prime_UTR_variant,SO:0001819|syno...  ...   \n",
       "65180                     SO:0001624|3_prime_UTR_variant  ...   \n",
       "65181                     SO:0001624|3_prime_UTR_variant  ...   \n",
       "65185                      SO:0001819|synonymous_variant  ...   \n",
       "\n",
       "       Protein_position  Amino_acids   Codons STRAND BAM_EDIT         SIFT  \\\n",
       "1226                NaN            A  cGg/cAg   -1.0       OK  deleterious   \n",
       "1227                NaN            A  cGg/cAg   -1.0       OK  deleterious   \n",
       "1228                NaN            A  cGg/cAg   -1.0       OK  deleterious   \n",
       "1229                NaN            A  cGg/cAg   -1.0       OK  deleterious   \n",
       "1230                NaN            A  cGg/cAg   -1.0       OK  deleterious   \n",
       "...                 ...          ...      ...    ...      ...          ...   \n",
       "65173               NaN            A  cGg/cAg    1.0       OK  deleterious   \n",
       "65177               487            A  gcC/gcT    1.0       OK  deleterious   \n",
       "65180               NaN            A  cGg/cAg    1.0       OK  deleterious   \n",
       "65181               NaN            A  cGg/cAg   -1.0       OK  deleterious   \n",
       "65185               362            A  gcG/gcA   -1.0       OK  deleterious   \n",
       "\n",
       "      PolyPhen   LoFtool CADD_PHRED BLOSUM62  \n",
       "1226    benign  0.000413     20.700      1.0  \n",
       "1227    benign  0.000413     19.410      1.0  \n",
       "1228    benign  0.000413     18.780      1.0  \n",
       "1229    benign  0.000413     20.200      1.0  \n",
       "1230    benign  0.000413     20.700      1.0  \n",
       "...        ...       ...        ...      ...  \n",
       "65173   benign       NaN      6.581      1.0  \n",
       "65177   benign       NaN     14.260      1.0  \n",
       "65180   benign       NaN      6.255      1.0  \n",
       "65181   benign  0.001580      3.007      1.0  \n",
       "65185   benign  0.001580     12.850      1.0  \n",
       "\n",
       "[12009 rows x 32 columns]"
      ]
     },
     "execution_count": 24,
     "metadata": {},
     "output_type": "execute_result"
    }
   ],
   "source": [
    "# Amino_acids\n",
    "print(gen_var['Amino_acids'].isnull().sum())\n",
    "print(gen_var['Amino_acids'].unique())\n",
    "mode_Amino_acids = gen_var['Amino_acids'].mode()\n",
    "print(mode_Amino_acids)\n",
    "gen_var['Amino_acids'] = gen_var['Amino_acids'].fillna('A')\n",
    "gen_var[gen_var['Amino_acids'] == 'A']"
   ]
  },
  {
   "cell_type": "code",
   "execution_count": 25,
   "metadata": {
    "execution": {
     "iopub.execute_input": "2020-12-26T14:20:28.691648Z",
     "iopub.status.busy": "2020-12-26T14:20:28.690632Z",
     "iopub.status.idle": "2020-12-26T14:20:28.741908Z",
     "shell.execute_reply": "2020-12-26T14:20:28.741360Z"
    },
    "papermill": {
     "duration": 0.116359,
     "end_time": "2020-12-26T14:20:28.742029",
     "exception": false,
     "start_time": "2020-12-26T14:20:28.625670",
     "status": "completed"
    },
    "tags": []
   },
   "outputs": [
    {
     "name": "stdout",
     "output_type": "stream",
     "text": [
      "9955\n",
      "['174' '170' '80' ... '258-260' '2593-2594' '2212-2213']\n",
      "0    1\n",
      "dtype: object\n"
     ]
    }
   ],
   "source": [
    "# Protein_position\n",
    "print(gen_var['Protein_position'].isnull().sum())\n",
    "print(gen_var['Protein_position'].unique())\n",
    "mode_Protein_position = gen_var['Protein_position'].mode()\n",
    "print(mode_Protein_position)\n",
    "gen_var['Protein_position'].fillna('1', inplace = True)"
   ]
  },
  {
   "cell_type": "code",
   "execution_count": 26,
   "metadata": {
    "execution": {
     "iopub.execute_input": "2020-12-26T14:20:28.877157Z",
     "iopub.status.busy": "2020-12-26T14:20:28.876407Z",
     "iopub.status.idle": "2020-12-26T14:20:28.908641Z",
     "shell.execute_reply": "2020-12-26T14:20:28.907898Z"
    },
    "papermill": {
     "duration": 0.106818,
     "end_time": "2020-12-26T14:20:28.908796",
     "exception": false,
     "start_time": "2020-12-26T14:20:28.801978",
     "status": "completed"
    },
    "tags": []
   },
   "outputs": [
    {
     "name": "stdout",
     "output_type": "stream",
     "text": [
      "0\n",
      "['gaG/gaC' 'cCg/cTg' 'aTc/aCc' ... 'ttg/tATtg' 'gac/gTCGac' 'tTACTC/t']\n"
     ]
    }
   ],
   "source": [
    "# Codons\n",
    "print(gen_var['Codons'].isnull().sum())\n",
    "print(gen_var['Codons'].unique())\n",
    "mode_Codons = gen_var['Codons'].mode()\n",
    "mode_Codons\n",
    "gen_var['Codons'].fillna('cGg/cAg', inplace = True)"
   ]
  },
  {
   "cell_type": "code",
   "execution_count": 27,
   "metadata": {
    "execution": {
     "iopub.execute_input": "2020-12-26T14:20:29.086280Z",
     "iopub.status.busy": "2020-12-26T14:20:29.053142Z",
     "iopub.status.idle": "2020-12-26T14:20:29.091885Z",
     "shell.execute_reply": "2020-12-26T14:20:29.091307Z"
    },
    "papermill": {
     "duration": 0.117537,
     "end_time": "2020-12-26T14:20:29.092031",
     "exception": false,
     "start_time": "2020-12-26T14:20:28.974494",
     "status": "completed"
    },
    "tags": []
   },
   "outputs": [
    {
     "name": "stdout",
     "output_type": "stream",
     "text": [
      "9955\n",
      "['522' '509' '239' ... '248-252' '1491-1492' '1492-1494']\n"
     ]
    }
   ],
   "source": [
    "# CDS_position\n",
    "print(gen_var['CDS_position'].isnull().sum())\n",
    "print(gen_var['CDS_position'].unique())\n",
    "mode_Codons = gen_var['CDS_position'].mode()\n",
    "gen_var['CDS_position'].fillna('1', inplace = True)"
   ]
  },
  {
   "cell_type": "code",
   "execution_count": 28,
   "metadata": {
    "execution": {
     "iopub.execute_input": "2020-12-26T14:20:29.256762Z",
     "iopub.status.busy": "2020-12-26T14:20:29.255600Z",
     "iopub.status.idle": "2020-12-26T14:20:29.263722Z",
     "shell.execute_reply": "2020-12-26T14:20:29.262628Z"
    },
    "papermill": {
     "duration": 0.108273,
     "end_time": "2020-12-26T14:20:29.263945",
     "exception": false,
     "start_time": "2020-12-26T14:20:29.155672",
     "status": "completed"
    },
    "tags": []
   },
   "outputs": [
    {
     "name": "stdout",
     "output_type": "stream",
     "text": [
      "8893\n",
      "['1/1' '4/4' '6/12' ... '38/45' '39/45' '30/53']\n"
     ]
    }
   ],
   "source": [
    "# EXON\n",
    "print(gen_var['EXON'].isnull().sum())\n",
    "print(gen_var['EXON'].unique())\n",
    "mode_Codons = gen_var['EXON'].mode()\n",
    "gen_var['EXON'].fillna('16/16', inplace = True)"
   ]
  },
  {
   "cell_type": "code",
   "execution_count": 29,
   "metadata": {
    "execution": {
     "iopub.execute_input": "2020-12-26T14:20:29.399654Z",
     "iopub.status.busy": "2020-12-26T14:20:29.398960Z",
     "iopub.status.idle": "2020-12-26T14:20:29.402989Z",
     "shell.execute_reply": "2020-12-26T14:20:29.403533Z"
    },
    "papermill": {
     "duration": 0.074881,
     "end_time": "2020-12-26T14:20:29.403696",
     "exception": false,
     "start_time": "2020-12-26T14:20:29.328815",
     "status": "completed"
    },
    "tags": []
   },
   "outputs": [
    {
     "data": {
      "text/plain": [
       "'Feature'"
      ]
     },
     "execution_count": 29,
     "metadata": {},
     "output_type": "execute_result"
    }
   ],
   "source": [
    " 'CADD_RAW',\n",
    " 'CADD_PHRED',\n",
    " 'MC',\n",
    " 'SYMBOL',\n",
    " 'BIOTYPE',\n",
    " 'Feature_type',\n",
    " 'STRAND',\n",
    " 'Feature'"
   ]
  },
  {
   "cell_type": "code",
   "execution_count": 30,
   "metadata": {
    "execution": {
     "iopub.execute_input": "2020-12-26T14:20:29.529471Z",
     "iopub.status.busy": "2020-12-26T14:20:29.528727Z",
     "iopub.status.idle": "2020-12-26T14:20:29.581902Z",
     "shell.execute_reply": "2020-12-26T14:20:29.581342Z"
    },
    "papermill": {
     "duration": 0.117648,
     "end_time": "2020-12-26T14:20:29.582026",
     "exception": false,
     "start_time": "2020-12-26T14:20:29.464378",
     "status": "completed"
    },
    "tags": []
   },
   "outputs": [
    {
     "name": "stdout",
     "output_type": "stream",
     "text": [
      "8884\n",
      "['552' '523' '632' ... '496-500' '1701-1702' '1702-1704']\n"
     ]
    }
   ],
   "source": [
    "# cDNA_position\n",
    "print(gen_var['cDNA_position'].isnull().sum())\n",
    "print(gen_var['cDNA_position'].unique())\n",
    "mode_Codons = gen_var['cDNA_position'].mode()\n",
    "mode_Codons\n",
    "gen_var['cDNA_position'].fillna('852', inplace = True)"
   ]
  },
  {
   "cell_type": "code",
   "execution_count": 31,
   "metadata": {
    "execution": {
     "iopub.execute_input": "2020-12-26T14:20:29.712681Z",
     "iopub.status.busy": "2020-12-26T14:20:29.711792Z",
     "iopub.status.idle": "2020-12-26T14:20:29.721706Z",
     "shell.execute_reply": "2020-12-26T14:20:29.722304Z"
    },
    "papermill": {
     "duration": 0.080051,
     "end_time": "2020-12-26T14:20:29.722489",
     "exception": false,
     "start_time": "2020-12-26T14:20:29.642438",
     "status": "completed"
    },
    "tags": []
   },
   "outputs": [
    {
     "name": "stdout",
     "output_type": "stream",
     "text": [
      "4213\n",
      "[   nan 0.101  0.021  ... 0.413  0.0837 0.0169]\n"
     ]
    }
   ],
   "source": [
    "# LoFtool\n",
    "print(gen_var['LoFtool'].isnull().sum())\n",
    "print(gen_var['LoFtool'].unique())\n",
    "mode_Codons = gen_var['LoFtool'].mode()\n",
    "gen_var['LoFtool'].fillna(0.971, inplace = True)"
   ]
  },
  {
   "cell_type": "code",
   "execution_count": 32,
   "metadata": {
    "execution": {
     "iopub.execute_input": "2020-12-26T14:20:29.854481Z",
     "iopub.status.busy": "2020-12-26T14:20:29.853348Z",
     "iopub.status.idle": "2020-12-26T14:20:29.871619Z",
     "shell.execute_reply": "2020-12-26T14:20:29.870871Z"
    },
    "papermill": {
     "duration": 0.08616,
     "end_time": "2020-12-26T14:20:29.871758",
     "exception": false,
     "start_time": "2020-12-26T14:20:29.785598",
     "status": "completed"
    },
    "tags": []
   },
   "outputs": [
    {
     "name": "stdout",
     "output_type": "stream",
     "text": [
      "1092\n",
      "[ 1.053 31.    28.1   ...  2.688  9.021  3.007]\n"
     ]
    }
   ],
   "source": [
    "# CADD_PHRED\n",
    "print(gen_var['CADD_PHRED'].isnull().sum())\n",
    "print(gen_var['CADD_PHRED'].unique())\n",
    "mode_Codons = gen_var['CADD_PHRED'].mode()\n",
    "gen_var['CADD_PHRED'].fillna(34.0, inplace = True)"
   ]
  },
  {
   "cell_type": "code",
   "execution_count": 33,
   "metadata": {
    "execution": {
     "iopub.execute_input": "2020-12-26T14:20:30.019692Z",
     "iopub.status.busy": "2020-12-26T14:20:30.018511Z",
     "iopub.status.idle": "2020-12-26T14:20:30.045069Z",
     "shell.execute_reply": "2020-12-26T14:20:30.045986Z"
    },
    "papermill": {
     "duration": 0.111025,
     "end_time": "2020-12-26T14:20:30.046254",
     "exception": false,
     "start_time": "2020-12-26T14:20:29.935229",
     "status": "completed"
    },
    "tags": []
   },
   "outputs": [
    {
     "name": "stdout",
     "output_type": "stream",
     "text": [
      "846\n"
     ]
    }
   ],
   "source": [
    "# MC\n",
    "print(gen_var['MC'].isnull().sum())\n",
    "# print(gen_var['MC'].unique())\n",
    "mode_Codons = gen_var['MC'].mode()\n",
    "mode_Codons\n",
    "gen_var['MC'].fillna('SO:0001583|missense_variant', inplace = True)"
   ]
  },
  {
   "cell_type": "code",
   "execution_count": 34,
   "metadata": {
    "execution": {
     "iopub.execute_input": "2020-12-26T14:20:30.183684Z",
     "iopub.status.busy": "2020-12-26T14:20:30.182888Z",
     "iopub.status.idle": "2020-12-26T14:20:30.227007Z",
     "shell.execute_reply": "2020-12-26T14:20:30.227600Z"
    },
    "papermill": {
     "duration": 0.11547,
     "end_time": "2020-12-26T14:20:30.227774",
     "exception": false,
     "start_time": "2020-12-26T14:20:30.112304",
     "status": "completed"
    },
    "tags": []
   },
   "outputs": [
    {
     "name": "stdout",
     "output_type": "stream",
     "text": [
      "16\n",
      "['B3GALT6' 'TMEM240' 'GNB1' ... 'DKC1' 'RAB39B' 'CLIC2']\n"
     ]
    }
   ],
   "source": [
    "# SYMBOL\n",
    "print(gen_var['SYMBOL'].isnull().sum())\n",
    "print(gen_var['SYMBOL'].unique())\n",
    "mode_Codons = gen_var['SYMBOL'].mode()\n",
    "mode_Codons\n",
    "gen_var['SYMBOL'].fillna('TTN', inplace = True)"
   ]
  },
  {
   "cell_type": "code",
   "execution_count": 35,
   "metadata": {
    "execution": {
     "iopub.execute_input": "2020-12-26T14:20:30.368524Z",
     "iopub.status.busy": "2020-12-26T14:20:30.367823Z",
     "iopub.status.idle": "2020-12-26T14:20:30.414647Z",
     "shell.execute_reply": "2020-12-26T14:20:30.414075Z"
    },
    "papermill": {
     "duration": 0.116008,
     "end_time": "2020-12-26T14:20:30.414787",
     "exception": false,
     "start_time": "2020-12-26T14:20:30.298779",
     "status": "completed"
    },
    "tags": []
   },
   "outputs": [
    {
     "name": "stdout",
     "output_type": "stream",
     "text": [
      "16\n",
      "['protein_coding' 'misc_RNA' nan]\n"
     ]
    }
   ],
   "source": [
    "# BIOTYPE\n",
    "print(gen_var['BIOTYPE'].isnull().sum())\n",
    "print(gen_var['BIOTYPE'].unique())\n",
    "mode_Codons = gen_var['BIOTYPE'].mode()\n",
    "mode_Codons\n",
    "gen_var['BIOTYPE'].fillna('protein_coding', inplace = True)"
   ]
  },
  {
   "cell_type": "code",
   "execution_count": 36,
   "metadata": {
    "execution": {
     "iopub.execute_input": "2020-12-26T14:20:30.586712Z",
     "iopub.status.busy": "2020-12-26T14:20:30.558255Z",
     "iopub.status.idle": "2020-12-26T14:20:30.592033Z",
     "shell.execute_reply": "2020-12-26T14:20:30.591351Z"
    },
    "papermill": {
     "duration": 0.113613,
     "end_time": "2020-12-26T14:20:30.592148",
     "exception": false,
     "start_time": "2020-12-26T14:20:30.478535",
     "status": "completed"
    },
    "tags": []
   },
   "outputs": [
    {
     "name": "stdout",
     "output_type": "stream",
     "text": [
      "14\n",
      "['Transcript' 'MotifFeature' nan]\n"
     ]
    }
   ],
   "source": [
    "# Feature_type\n",
    "print(gen_var['Feature_type'].isnull().sum())\n",
    "print(gen_var['Feature_type'].unique())\n",
    "mode_Codons = gen_var['Feature_type'].mode()\n",
    "mode_Codons\n",
    "gen_var['Feature_type'].fillna('Transcript', inplace = True)"
   ]
  },
  {
   "cell_type": "code",
   "execution_count": 37,
   "metadata": {
    "execution": {
     "iopub.execute_input": "2020-12-26T14:20:30.760806Z",
     "iopub.status.busy": "2020-12-26T14:20:30.733322Z",
     "iopub.status.idle": "2020-12-26T14:20:30.768301Z",
     "shell.execute_reply": "2020-12-26T14:20:30.769124Z"
    },
    "papermill": {
     "duration": 0.113909,
     "end_time": "2020-12-26T14:20:30.769371",
     "exception": false,
     "start_time": "2020-12-26T14:20:30.655462",
     "status": "completed"
    },
    "tags": []
   },
   "outputs": [
    {
     "name": "stdout",
     "output_type": "stream",
     "text": [
      "14\n",
      "['NM_080605.3' 'NM_001114748.1' 'NM_002074.4' ... 'NM_001363.3'\n",
      " 'NM_171998.2' 'XM_005274646.1']\n"
     ]
    }
   ],
   "source": [
    "# Feature\n",
    "print(gen_var['Feature'].isnull().sum())\n",
    "print(gen_var['Feature'].unique())\n",
    "mode_Codons = gen_var['Feature'].mode()\n",
    "mode_Codons\n",
    "gen_var['Feature'].fillna('NM_001267550.1', inplace = True)"
   ]
  },
  {
   "cell_type": "code",
   "execution_count": 38,
   "metadata": {
    "execution": {
     "iopub.execute_input": "2020-12-26T14:20:30.907392Z",
     "iopub.status.busy": "2020-12-26T14:20:30.905978Z",
     "iopub.status.idle": "2020-12-26T14:20:30.918764Z",
     "shell.execute_reply": "2020-12-26T14:20:30.918059Z"
    },
    "papermill": {
     "duration": 0.083812,
     "end_time": "2020-12-26T14:20:30.918897",
     "exception": false,
     "start_time": "2020-12-26T14:20:30.835085",
     "status": "completed"
    },
    "tags": []
   },
   "outputs": [
    {
     "name": "stdout",
     "output_type": "stream",
     "text": [
      "14\n",
      "[ 1. -1. nan]\n"
     ]
    }
   ],
   "source": [
    "# Feature\n",
    "print(gen_var['STRAND'].isnull().sum())\n",
    "print(gen_var['STRAND'].unique())\n",
    "mode_Codons = gen_var['STRAND'].mode()\n",
    "mode_Codons\n",
    "gen_var['STRAND'].fillna(-1.0, inplace = True)"
   ]
  },
  {
   "cell_type": "code",
   "execution_count": 39,
   "metadata": {
    "execution": {
     "iopub.execute_input": "2020-12-26T14:20:31.224412Z",
     "iopub.status.busy": "2020-12-26T14:20:31.223615Z",
     "iopub.status.idle": "2020-12-26T14:20:31.236499Z",
     "shell.execute_reply": "2020-12-26T14:20:31.235892Z"
    },
    "papermill": {
     "duration": 0.252478,
     "end_time": "2020-12-26T14:20:31.236637",
     "exception": false,
     "start_time": "2020-12-26T14:20:30.984159",
     "status": "completed"
    },
    "tags": []
   },
   "outputs": [
    {
     "data": {
      "text/plain": [
       "BLOSUM62            0\n",
       "CADD_PHRED          0\n",
       "POS                 0\n",
       "REF                 0\n",
       "ALT                 0\n",
       "AF_ESP              0\n",
       "CLNDISDB            0\n",
       "CLNDN               0\n",
       "CLNHGVS             0\n",
       "CLNVC               0\n",
       "MC                  0\n",
       "ORIGIN              0\n",
       "CLASS               0\n",
       "Allele              0\n",
       "Consequence         0\n",
       "IMPACT              0\n",
       "SYMBOL              0\n",
       "Feature_type        0\n",
       "Feature             0\n",
       "BIOTYPE             0\n",
       "EXON                0\n",
       "cDNA_position       0\n",
       "CDS_position        0\n",
       "Protein_position    0\n",
       "Amino_acids         0\n",
       "Codons              0\n",
       "STRAND              0\n",
       "BAM_EDIT            0\n",
       "SIFT                0\n",
       "PolyPhen            0\n",
       "LoFtool             0\n",
       "CHROM               0\n",
       "dtype: int64"
      ]
     },
     "execution_count": 39,
     "metadata": {},
     "output_type": "execute_result"
    }
   ],
   "source": [
    "gen_var.isnull().sum().sort_values(ascending = False)"
   ]
  },
  {
   "cell_type": "code",
   "execution_count": 40,
   "metadata": {
    "execution": {
     "iopub.execute_input": "2020-12-26T14:20:31.381585Z",
     "iopub.status.busy": "2020-12-26T14:20:31.380749Z",
     "iopub.status.idle": "2020-12-26T14:20:31.385488Z",
     "shell.execute_reply": "2020-12-26T14:20:31.384897Z"
    },
    "papermill": {
     "duration": 0.081318,
     "end_time": "2020-12-26T14:20:31.385627",
     "exception": false,
     "start_time": "2020-12-26T14:20:31.304309",
     "status": "completed"
    },
    "tags": []
   },
   "outputs": [],
   "source": [
    "obj_cols = []\n",
    "for col in gen_var.columns:\n",
    "    if gen_var[col].dtypes == 'object':\n",
    "        obj_cols.append(col)"
   ]
  },
  {
   "cell_type": "code",
   "execution_count": 41,
   "metadata": {
    "execution": {
     "iopub.execute_input": "2020-12-26T14:20:31.534369Z",
     "iopub.status.busy": "2020-12-26T14:20:31.533639Z",
     "iopub.status.idle": "2020-12-26T14:20:31.771522Z",
     "shell.execute_reply": "2020-12-26T14:20:31.770456Z"
    },
    "papermill": {
     "duration": 0.31927,
     "end_time": "2020-12-26T14:20:31.771686",
     "exception": false,
     "start_time": "2020-12-26T14:20:31.452416",
     "status": "completed"
    },
    "tags": []
   },
   "outputs": [
    {
     "name": "stdout",
     "output_type": "stream",
     "text": [
      "IMPACT 4\n",
      "['MODERATE' 'MODIFIER' 'LOW' 'HIGH']\n",
      "Feature_type 2\n",
      "['Transcript' 'MotifFeature']\n",
      "BIOTYPE 2\n",
      "['protein_coding' 'misc_RNA']\n",
      "BAM_EDIT 2\n",
      "['OK' 'FAILED']\n",
      "SIFT 4\n",
      "['tolerated' 'deleterious_low_confidence' 'deleterious'\n",
      " 'tolerated_low_confidence']\n",
      "PolyPhen 4\n",
      "['benign' 'probably_damaging' 'possibly_damaging' 'unknown']\n"
     ]
    }
   ],
   "source": [
    "for col in obj_cols:\n",
    "    if len(gen_var[col].unique()) < 5:\n",
    "        print(col+' '+str(len(gen_var[col].unique())))\n",
    "        print(gen_var[col].unique())"
   ]
  },
  {
   "cell_type": "code",
   "execution_count": 42,
   "metadata": {
    "execution": {
     "iopub.execute_input": "2020-12-26T14:20:31.924911Z",
     "iopub.status.busy": "2020-12-26T14:20:31.924102Z",
     "iopub.status.idle": "2020-12-26T14:20:31.927796Z",
     "shell.execute_reply": "2020-12-26T14:20:31.927072Z"
    },
    "papermill": {
     "duration": 0.085804,
     "end_time": "2020-12-26T14:20:31.927926",
     "exception": false,
     "start_time": "2020-12-26T14:20:31.842122",
     "status": "completed"
    },
    "tags": []
   },
   "outputs": [],
   "source": [
    "encode_IMPACT = {\n",
    "    'LOW' : 0, 'MODERATE' : 1, 'MODIFIER' : 2, 'HIGH' : 3\n",
    "}\n",
    "\n",
    "encode_Feature_type = {\n",
    "    'Transcript' : 0, 'MotifFeature' : 1\n",
    "}\n",
    "\n",
    "encode_BIOTYPE = {\n",
    "    'protein_coding' : 0, 'misc_RNA' : 1\n",
    "}\n",
    "\n",
    "encode_BAM_EDIT = {\n",
    "    'OK' : 1, 'FAILED' : 0\n",
    "}\n",
    "\n",
    "encode_PolyPhen = {\n",
    "    'benign' : 0, 'probably_damaging' : 1, 'possibly_damaging' : 2, 'unknown' : 3\n",
    "}\n",
    "\n",
    "encode_CHROM = {\n",
    "    '1' : 1, '2' : 2, '3' : 3, '4' : 4, '5' : 5, '6' : 6, '7' : 7, '8' : 8, '9' : 9, '10' : 10, '11' : 11, \n",
    "    '12' : 12, '13' : 13, '14' : 14, '15' : 15, '16' : 16, '17' : 17, '18' : 18, '19' : 19, '20' : 20, '21' : 21, '22' : 22,\n",
    "    'X' : 23, 'MT' : 24\n",
    "}"
   ]
  },
  {
   "cell_type": "code",
   "execution_count": 43,
   "metadata": {
    "execution": {
     "iopub.execute_input": "2020-12-26T14:20:32.087182Z",
     "iopub.status.busy": "2020-12-26T14:20:32.086344Z",
     "iopub.status.idle": "2020-12-26T14:20:32.245053Z",
     "shell.execute_reply": "2020-12-26T14:20:32.244417Z"
    },
    "papermill": {
     "duration": 0.246176,
     "end_time": "2020-12-26T14:20:32.245185",
     "exception": false,
     "start_time": "2020-12-26T14:20:31.999009",
     "status": "completed"
    },
    "tags": []
   },
   "outputs": [],
   "source": [
    "cat_cols = []\n",
    "for col in obj_cols:\n",
    "    if len(gen_var[col].unique()) > 5 :\n",
    "        if gen_var[col].dtypes == 'object' :\n",
    "            cat_cols.append(col)"
   ]
  },
  {
   "cell_type": "code",
   "execution_count": 44,
   "metadata": {
    "execution": {
     "iopub.execute_input": "2020-12-26T14:20:32.391008Z",
     "iopub.status.busy": "2020-12-26T14:20:32.390098Z",
     "iopub.status.idle": "2020-12-26T14:20:32.394419Z",
     "shell.execute_reply": "2020-12-26T14:20:32.393770Z"
    },
    "papermill": {
     "duration": 0.080342,
     "end_time": "2020-12-26T14:20:32.394545",
     "exception": false,
     "start_time": "2020-12-26T14:20:32.314203",
     "status": "completed"
    },
    "tags": []
   },
   "outputs": [],
   "source": [
    "from sklearn.preprocessing import LabelEncoder"
   ]
  },
  {
   "cell_type": "code",
   "execution_count": 45,
   "metadata": {
    "execution": {
     "iopub.execute_input": "2020-12-26T14:20:32.558232Z",
     "iopub.status.busy": "2020-12-26T14:20:32.557153Z",
     "iopub.status.idle": "2020-12-26T14:20:33.233290Z",
     "shell.execute_reply": "2020-12-26T14:20:33.233816Z"
    },
    "papermill": {
     "duration": 0.773156,
     "end_time": "2020-12-26T14:20:33.233974",
     "exception": false,
     "start_time": "2020-12-26T14:20:32.460818",
     "status": "completed"
    },
    "tags": []
   },
   "outputs": [
    {
     "name": "stdout",
     "output_type": "stream",
     "text": [
      "REF\n",
      "ALT\n",
      "CLNDISDB\n",
      "CLNDN\n",
      "CLNHGVS\n",
      "CLNVC\n",
      "MC\n",
      "Allele\n",
      "Consequence\n",
      "SYMBOL\n",
      "Feature\n",
      "EXON\n",
      "cDNA_position\n",
      "CDS_position\n",
      "Protein_position\n",
      "Amino_acids\n",
      "Codons\n",
      "SIFT\n"
     ]
    }
   ],
   "source": [
    "cat_cols.remove('CHROM')\n",
    "cat_cols.append('SIFT')\n",
    "le = LabelEncoder()\n",
    "for col in cat_cols:\n",
    "    print(col)\n",
    "    gen_var[col] = le.fit_transform(gen_var[col].values)"
   ]
  },
  {
   "cell_type": "code",
   "execution_count": 46,
   "metadata": {
    "execution": {
     "iopub.execute_input": "2020-12-26T14:20:33.415595Z",
     "iopub.status.busy": "2020-12-26T14:20:33.414689Z",
     "iopub.status.idle": "2020-12-26T14:20:33.485174Z",
     "shell.execute_reply": "2020-12-26T14:20:33.486012Z"
    },
    "papermill": {
     "duration": 0.165795,
     "end_time": "2020-12-26T14:20:33.486259",
     "exception": false,
     "start_time": "2020-12-26T14:20:33.320464",
     "status": "completed"
    },
    "tags": []
   },
   "outputs": [
    {
     "name": "stdout",
     "output_type": "stream",
     "text": [
      "<class 'pandas.core.frame.DataFrame'>\n",
      "RangeIndex: 65188 entries, 0 to 65187\n",
      "Data columns (total 32 columns):\n",
      " #   Column            Non-Null Count  Dtype  \n",
      "---  ------            --------------  -----  \n",
      " 0   CHROM             65188 non-null  object \n",
      " 1   POS               65188 non-null  int64  \n",
      " 2   REF               65188 non-null  int64  \n",
      " 3   ALT               65188 non-null  int64  \n",
      " 4   AF_ESP            65188 non-null  float64\n",
      " 5   CLNDISDB          65188 non-null  int64  \n",
      " 6   CLNDN             65188 non-null  int64  \n",
      " 7   CLNHGVS           65188 non-null  int64  \n",
      " 8   CLNVC             65188 non-null  int64  \n",
      " 9   MC                65188 non-null  int64  \n",
      " 10  ORIGIN            65188 non-null  int64  \n",
      " 11  CLASS             65188 non-null  int64  \n",
      " 12  Allele            65188 non-null  int64  \n",
      " 13  Consequence       65188 non-null  int64  \n",
      " 14  IMPACT            65188 non-null  object \n",
      " 15  SYMBOL            65188 non-null  int64  \n",
      " 16  Feature_type      65188 non-null  object \n",
      " 17  Feature           65188 non-null  int64  \n",
      " 18  BIOTYPE           65188 non-null  object \n",
      " 19  EXON              65188 non-null  int64  \n",
      " 20  cDNA_position     65188 non-null  int64  \n",
      " 21  CDS_position      65188 non-null  int64  \n",
      " 22  Protein_position  65188 non-null  int64  \n",
      " 23  Amino_acids       65188 non-null  int64  \n",
      " 24  Codons            65188 non-null  int64  \n",
      " 25  STRAND            65188 non-null  float64\n",
      " 26  BAM_EDIT          65188 non-null  object \n",
      " 27  SIFT              65188 non-null  int64  \n",
      " 28  PolyPhen          65188 non-null  object \n",
      " 29  LoFtool           65188 non-null  float64\n",
      " 30  CADD_PHRED        65188 non-null  float64\n",
      " 31  BLOSUM62          65188 non-null  float64\n",
      "dtypes: float64(5), int64(21), object(6)\n",
      "memory usage: 15.9+ MB\n"
     ]
    }
   ],
   "source": [
    "gen_var.info()"
   ]
  },
  {
   "cell_type": "code",
   "execution_count": 47,
   "metadata": {
    "execution": {
     "iopub.execute_input": "2020-12-26T14:20:33.631610Z",
     "iopub.status.busy": "2020-12-26T14:20:33.630895Z",
     "iopub.status.idle": "2020-12-26T14:20:34.024833Z",
     "shell.execute_reply": "2020-12-26T14:20:34.024115Z"
    },
    "papermill": {
     "duration": 0.466071,
     "end_time": "2020-12-26T14:20:34.024984",
     "exception": false,
     "start_time": "2020-12-26T14:20:33.558913",
     "status": "completed"
    },
    "tags": []
   },
   "outputs": [],
   "source": [
    "gen_var['IMPACT'].replace(encode_IMPACT, inplace = True)\n",
    "gen_var['Feature_type'].replace(encode_Feature_type, inplace = True)\n",
    "gen_var['BIOTYPE'].replace(encode_BIOTYPE, inplace = True)\n",
    "gen_var['BAM_EDIT'].replace(encode_BAM_EDIT, inplace = True)\n",
    "gen_var['PolyPhen'].replace(encode_PolyPhen, inplace = True)\n",
    "gen_var['CHROM'].replace(encode_CHROM, inplace = True)"
   ]
  },
  {
   "cell_type": "code",
   "execution_count": 48,
   "metadata": {
    "execution": {
     "iopub.execute_input": "2020-12-26T14:20:34.176601Z",
     "iopub.status.busy": "2020-12-26T14:20:34.175552Z",
     "iopub.status.idle": "2020-12-26T14:20:34.215952Z",
     "shell.execute_reply": "2020-12-26T14:20:34.215060Z"
    },
    "papermill": {
     "duration": 0.118343,
     "end_time": "2020-12-26T14:20:34.216115",
     "exception": false,
     "start_time": "2020-12-26T14:20:34.097772",
     "status": "completed"
    },
    "tags": []
   },
   "outputs": [
    {
     "name": "stdout",
     "output_type": "stream",
     "text": [
      "<class 'pandas.core.frame.DataFrame'>\n",
      "RangeIndex: 65188 entries, 0 to 65187\n",
      "Data columns (total 32 columns):\n",
      " #   Column            Non-Null Count  Dtype  \n",
      "---  ------            --------------  -----  \n",
      " 0   CHROM             65188 non-null  int64  \n",
      " 1   POS               65188 non-null  int64  \n",
      " 2   REF               65188 non-null  int64  \n",
      " 3   ALT               65188 non-null  int64  \n",
      " 4   AF_ESP            65188 non-null  float64\n",
      " 5   CLNDISDB          65188 non-null  int64  \n",
      " 6   CLNDN             65188 non-null  int64  \n",
      " 7   CLNHGVS           65188 non-null  int64  \n",
      " 8   CLNVC             65188 non-null  int64  \n",
      " 9   MC                65188 non-null  int64  \n",
      " 10  ORIGIN            65188 non-null  int64  \n",
      " 11  CLASS             65188 non-null  int64  \n",
      " 12  Allele            65188 non-null  int64  \n",
      " 13  Consequence       65188 non-null  int64  \n",
      " 14  IMPACT            65188 non-null  int64  \n",
      " 15  SYMBOL            65188 non-null  int64  \n",
      " 16  Feature_type      65188 non-null  int64  \n",
      " 17  Feature           65188 non-null  int64  \n",
      " 18  BIOTYPE           65188 non-null  int64  \n",
      " 19  EXON              65188 non-null  int64  \n",
      " 20  cDNA_position     65188 non-null  int64  \n",
      " 21  CDS_position      65188 non-null  int64  \n",
      " 22  Protein_position  65188 non-null  int64  \n",
      " 23  Amino_acids       65188 non-null  int64  \n",
      " 24  Codons            65188 non-null  int64  \n",
      " 25  STRAND            65188 non-null  float64\n",
      " 26  BAM_EDIT          65188 non-null  int64  \n",
      " 27  SIFT              65188 non-null  int64  \n",
      " 28  PolyPhen          65188 non-null  int64  \n",
      " 29  LoFtool           65188 non-null  float64\n",
      " 30  CADD_PHRED        65188 non-null  float64\n",
      " 31  BLOSUM62          65188 non-null  float64\n",
      "dtypes: float64(5), int64(27)\n",
      "memory usage: 15.9 MB\n"
     ]
    }
   ],
   "source": [
    "gen_var.info()"
   ]
  },
  {
   "cell_type": "code",
   "execution_count": 49,
   "metadata": {
    "execution": {
     "iopub.execute_input": "2020-12-26T14:20:34.366563Z",
     "iopub.status.busy": "2020-12-26T14:20:34.365767Z",
     "iopub.status.idle": "2020-12-26T14:20:38.150093Z",
     "shell.execute_reply": "2020-12-26T14:20:38.150630Z"
    },
    "papermill": {
     "duration": 3.861831,
     "end_time": "2020-12-26T14:20:38.150779",
     "exception": false,
     "start_time": "2020-12-26T14:20:34.288948",
     "status": "completed"
    },
    "tags": []
   },
   "outputs": [
    {
     "data": {
      "text/plain": [
       "<matplotlib.axes._subplots.AxesSubplot at 0x7f220494ec10>"
      ]
     },
     "execution_count": 49,
     "metadata": {},
     "output_type": "execute_result"
    },
    {
     "data": {
      "image/png": "[encoded data removed]",
      "text/plain": [
       "<Figure size 1080x720 with 2 Axes>"
      ]
     },
     "metadata": {
      "needs_background": "light"
     },
     "output_type": "display_data"
    }
   ],
   "source": [
    "plt.figure(figsize = (15, 10))\n",
    "sns.heatmap(gen_var.corr(), linewidths = .5, annot = True, cmap = plt.cm.Accent_r)"
   ]
  },
  {
   "cell_type": "code",
   "execution_count": 50,
   "metadata": {
    "execution": {
     "iopub.execute_input": "2020-12-26T14:20:38.309752Z",
     "iopub.status.busy": "2020-12-26T14:20:38.308724Z",
     "iopub.status.idle": "2020-12-26T14:20:38.318333Z",
     "shell.execute_reply": "2020-12-26T14:20:38.318802Z"
    },
    "papermill": {
     "duration": 0.091108,
     "end_time": "2020-12-26T14:20:38.318952",
     "exception": false,
     "start_time": "2020-12-26T14:20:38.227844",
     "status": "completed"
    },
    "tags": []
   },
   "outputs": [],
   "source": [
    "gen_var.drop(['CHROM', 'ALT'], axis = 1, inplace = True)"
   ]
  },
  {
   "cell_type": "code",
   "execution_count": 51,
   "metadata": {
    "execution": {
     "iopub.execute_input": "2020-12-26T14:20:38.479925Z",
     "iopub.status.busy": "2020-12-26T14:20:38.479030Z",
     "iopub.status.idle": "2020-12-26T14:20:38.482728Z",
     "shell.execute_reply": "2020-12-26T14:20:38.483222Z"
    },
    "papermill": {
     "duration": 0.087306,
     "end_time": "2020-12-26T14:20:38.483378",
     "exception": false,
     "start_time": "2020-12-26T14:20:38.396072",
     "status": "completed"
    },
    "tags": []
   },
   "outputs": [
    {
     "data": {
      "text/plain": [
       "(65188, 30)"
      ]
     },
     "execution_count": 51,
     "metadata": {},
     "output_type": "execute_result"
    }
   ],
   "source": [
    "gen_var.shape"
   ]
  },
  {
   "cell_type": "code",
   "execution_count": 52,
   "metadata": {
    "execution": {
     "iopub.execute_input": "2020-12-26T14:20:38.651199Z",
     "iopub.status.busy": "2020-12-26T14:20:38.650519Z",
     "iopub.status.idle": "2020-12-26T14:20:38.660595Z",
     "shell.execute_reply": "2020-12-26T14:20:38.661141Z"
    },
    "papermill": {
     "duration": 0.095104,
     "end_time": "2020-12-26T14:20:38.661364",
     "exception": false,
     "start_time": "2020-12-26T14:20:38.566260",
     "status": "completed"
    },
    "tags": []
   },
   "outputs": [],
   "source": [
    "X = gen_var.drop('CLASS', axis = 1)\n",
    "Y = pd.DataFrame(gen_var['CLASS'])"
   ]
  },
  {
   "cell_type": "code",
   "execution_count": 53,
   "metadata": {
    "execution": {
     "iopub.execute_input": "2020-12-26T14:20:38.829212Z",
     "iopub.status.busy": "2020-12-26T14:20:38.828460Z",
     "iopub.status.idle": "2020-12-26T14:20:38.854818Z",
     "shell.execute_reply": "2020-12-26T14:20:38.855451Z"
    },
    "papermill": {
     "duration": 0.11404,
     "end_time": "2020-12-26T14:20:38.855633",
     "exception": false,
     "start_time": "2020-12-26T14:20:38.741593",
     "status": "completed"
    },
    "tags": []
   },
   "outputs": [],
   "source": [
    "X_train, X_test, Y_train, Y_test = train_test_split(X, Y, test_size=0.3, random_state = 42)"
   ]
  },
  {
   "cell_type": "code",
   "execution_count": 54,
   "metadata": {
    "execution": {
     "iopub.execute_input": "2020-12-26T14:20:39.030986Z",
     "iopub.status.busy": "2020-12-26T14:20:39.030214Z",
     "iopub.status.idle": "2020-12-26T14:20:39.032724Z",
     "shell.execute_reply": "2020-12-26T14:20:39.033287Z"
    },
    "papermill": {
     "duration": 0.095833,
     "end_time": "2020-12-26T14:20:39.033473",
     "exception": false,
     "start_time": "2020-12-26T14:20:38.937640",
     "status": "completed"
    },
    "tags": []
   },
   "outputs": [],
   "source": [
    "# # Create a pipeline\n",
    "# pipe = Pipeline([(\"classifier\", RandomForestClassifier())])\n",
    "# # Create dictionary with candidate learning algorithms and their hyperparameters\n",
    "# grid_param = [\n",
    "#                 {\"classifier\": [RandomForestClassifier()],\n",
    "#                  \"classifier__n_estimators\": [10, 100, 1000],\n",
    "#                  \"classifier__max_depth\":[5,8,15,25,30,None],\n",
    "#                  \"classifier__min_samples_leaf\":[1,2,5,10,15,100],\n",
    "#                  \"classifier__max_leaf_nodes\": [2, 5,10]}]\n",
    "# # create a gridsearch of the pipeline, the fit the best model\n",
    "# gridsearch = GridSearchCV(pipe, grid_param, cv=5, verbose=0,n_jobs=-1) # Fit grid search\n",
    "# best_model = gridsearch.fit(X_train, Y_train)\n",
    "\n",
    "# print(best_model.best_estimator_)\n",
    "# print(\"The mean accuracy of the model is:\",best_model.score(X_test, Y_test))"
   ]
  },
  {
   "cell_type": "code",
   "execution_count": 55,
   "metadata": {
    "execution": {
     "iopub.execute_input": "2020-12-26T14:20:39.211589Z",
     "iopub.status.busy": "2020-12-26T14:20:39.210600Z",
     "iopub.status.idle": "2020-12-26T14:20:39.220828Z",
     "shell.execute_reply": "2020-12-26T14:20:39.220210Z"
    },
    "papermill": {
     "duration": 0.099698,
     "end_time": "2020-12-26T14:20:39.220992",
     "exception": false,
     "start_time": "2020-12-26T14:20:39.121294",
     "status": "completed"
    },
    "tags": []
   },
   "outputs": [],
   "source": [
    "# Creating an empty Dataframe with Scores\n",
    "df_accur_roc_score_importance = pd.DataFrame(columns=['Roc_Auc_Score'])\n",
    "df_accur_score = pd.DataFrame(columns=['Accuracy_Score'])"
   ]
  },
  {
   "cell_type": "code",
   "execution_count": 56,
   "metadata": {
    "execution": {
     "iopub.execute_input": "2020-12-26T14:20:39.395648Z",
     "iopub.status.busy": "2020-12-26T14:20:39.394847Z",
     "iopub.status.idle": "2020-12-26T14:20:39.600384Z",
     "shell.execute_reply": "2020-12-26T14:20:39.599782Z"
    },
    "papermill": {
     "duration": 0.296848,
     "end_time": "2020-12-26T14:20:39.600523",
     "exception": false,
     "start_time": "2020-12-26T14:20:39.303675",
     "status": "completed"
    },
    "tags": []
   },
   "outputs": [],
   "source": [
    "dt = DecisionTreeClassifier()\n",
    "rf = RandomForestClassifier(n_estimators=100, n_jobs=-1, random_state=42)\n",
    "X_std_scaled = StandardScaler().fit_transform(X)\n",
    "X_norm_scled = MinMaxScaler().fit_transform(X)\n",
    "X_robust_scaled = RobustScaler().fit_transform(X)"
   ]
  },
  {
   "cell_type": "code",
   "execution_count": 57,
   "metadata": {
    "execution": {
     "iopub.execute_input": "2020-12-26T14:20:39.767167Z",
     "iopub.status.busy": "2020-12-26T14:20:39.764971Z",
     "iopub.status.idle": "2020-12-26T14:20:39.887770Z",
     "shell.execute_reply": "2020-12-26T14:20:39.887010Z"
    },
    "papermill": {
     "duration": 0.208278,
     "end_time": "2020-12-26T14:20:39.887889",
     "exception": false,
     "start_time": "2020-12-26T14:20:39.679611",
     "status": "completed"
    },
    "tags": []
   },
   "outputs": [],
   "source": [
    "X_sc_train, X_sc_test, Y_sc_train, Y_sc_test = train_test_split(X_std_scaled, Y, test_size = 0.3, random_state = 40)\n",
    "X_rb_train, X_rb_test, Y_rb_train, Y_rb_test = train_test_split(X_robust_scaled, Y, test_size = 0.3, random_state = 40)\n",
    "X_nm_train, X_nm_test, Y_nm_train, Y_nm_test = train_test_split(X_norm_scled, Y, test_size = 0.3, random_state = 40)"
   ]
  },
  {
   "cell_type": "code",
   "execution_count": 58,
   "metadata": {
    "execution": {
     "iopub.execute_input": "2020-12-26T14:20:40.057512Z",
     "iopub.status.busy": "2020-12-26T14:20:40.056715Z",
     "iopub.status.idle": "2020-12-26T14:20:41.346227Z",
     "shell.execute_reply": "2020-12-26T14:20:41.345633Z"
    },
    "papermill": {
     "duration": 1.378249,
     "end_time": "2020-12-26T14:20:41.346405",
     "exception": false,
     "start_time": "2020-12-26T14:20:39.968156",
     "status": "completed"
    },
    "tags": []
   },
   "outputs": [
    {
     "name": "stdout",
     "output_type": "stream",
     "text": [
      "              precision    recall  f1-score   support\n",
      "\n",
      "           0       0.81      0.80      0.80     14667\n",
      "           1       0.42      0.44      0.43      4890\n",
      "\n",
      "    accuracy                           0.71     19557\n",
      "   macro avg       0.61      0.62      0.61     19557\n",
      "weighted avg       0.71      0.71      0.71     19557\n",
      "\n"
     ]
    }
   ],
   "source": [
    "dt.fit(X_sc_train, Y_sc_train)\n",
    "Y_dt_pred = dt.predict(X_sc_test)\n",
    "print(classification_report(Y_sc_test, Y_dt_pred))\n",
    "confusion_matrix(Y_sc_test, Y_dt_pred)\n",
    "\n",
    "fpr, tpr, _ = metrics.roc_curve(Y_sc_test, Y_dt_pred)\n",
    "\n",
    "auc_score = metrics.auc(fpr, tpr)\n",
    "df_accur_roc_score_importance.loc['Standardized Decision Tree'] = [auc_score]\n",
    "df_accur_score.loc['Standardized Decision Tree'] = [metrics.accuracy_score(Y_sc_test, Y_dt_pred)]"
   ]
  },
  {
   "cell_type": "code",
   "execution_count": 59,
   "metadata": {
    "execution": {
     "iopub.execute_input": "2020-12-26T14:20:41.516156Z",
     "iopub.status.busy": "2020-12-26T14:20:41.514979Z",
     "iopub.status.idle": "2020-12-26T14:20:42.767174Z",
     "shell.execute_reply": "2020-12-26T14:20:42.766547Z"
    },
    "papermill": {
     "duration": 1.340607,
     "end_time": "2020-12-26T14:20:42.767332",
     "exception": false,
     "start_time": "2020-12-26T14:20:41.426725",
     "status": "completed"
    },
    "tags": []
   },
   "outputs": [
    {
     "name": "stdout",
     "output_type": "stream",
     "text": [
      "              precision    recall  f1-score   support\n",
      "\n",
      "           0       0.81      0.80      0.80     14667\n",
      "           1       0.42      0.44      0.43      4890\n",
      "\n",
      "    accuracy                           0.71     19557\n",
      "   macro avg       0.61      0.62      0.61     19557\n",
      "weighted avg       0.71      0.71      0.71     19557\n",
      "\n"
     ]
    }
   ],
   "source": [
    "dt.fit(X_rb_train, Y_rb_train)\n",
    "Y_dt_pred = dt.predict(X_rb_test)\n",
    "print(classification_report(Y_rb_test, Y_dt_pred))\n",
    "confusion_matrix(Y_rb_test, Y_dt_pred)\n",
    "fpr, tpr, _ = metrics.roc_curve(Y_rb_test, Y_dt_pred)\n",
    "\n",
    "auc_score = metrics.auc(fpr, tpr)\n",
    "df_accur_roc_score_importance.loc['Robust Decision Tree'] = [auc_score]\n",
    "df_accur_score.loc['Robust Decision Tree'] = [metrics.accuracy_score(Y_rb_test, Y_dt_pred)]"
   ]
  },
  {
   "cell_type": "code",
   "execution_count": 60,
   "metadata": {
    "execution": {
     "iopub.execute_input": "2020-12-26T14:20:42.948728Z",
     "iopub.status.busy": "2020-12-26T14:20:42.947928Z",
     "iopub.status.idle": "2020-12-26T14:20:44.185500Z",
     "shell.execute_reply": "2020-12-26T14:20:44.184760Z"
    },
    "papermill": {
     "duration": 1.329994,
     "end_time": "2020-12-26T14:20:44.185642",
     "exception": false,
     "start_time": "2020-12-26T14:20:42.855648",
     "status": "completed"
    },
    "tags": []
   },
   "outputs": [
    {
     "name": "stdout",
     "output_type": "stream",
     "text": [
      "              precision    recall  f1-score   support\n",
      "\n",
      "           0       0.81      0.79      0.80     14667\n",
      "           1       0.42      0.44      0.43      4890\n",
      "\n",
      "    accuracy                           0.71     19557\n",
      "   macro avg       0.61      0.62      0.61     19557\n",
      "weighted avg       0.71      0.71      0.71     19557\n",
      "\n"
     ]
    }
   ],
   "source": [
    "dt.fit(X_nm_train, Y_nm_train)\n",
    "Y_dt_pred = dt.predict(X_nm_test)\n",
    "print(classification_report(Y_nm_test, Y_dt_pred))\n",
    "confusion_matrix(Y_nm_test, Y_dt_pred)\n",
    "fpr, tpr, _ = metrics.roc_curve(Y_nm_test, Y_dt_pred)\n",
    "\n",
    "auc_score = metrics.auc(fpr, tpr)\n",
    "df_accur_roc_score_importance.loc['Normalized Decision Tree'] = [auc_score]\n",
    "df_accur_score.loc['Normalized Decision Tree'] = [metrics.accuracy_score(Y_nm_test, Y_dt_pred)]"
   ]
  },
  {
   "cell_type": "code",
   "execution_count": 61,
   "metadata": {
    "execution": {
     "iopub.execute_input": "2020-12-26T14:20:44.378035Z",
     "iopub.status.busy": "2020-12-26T14:20:44.376876Z",
     "iopub.status.idle": "2020-12-26T14:20:50.673451Z",
     "shell.execute_reply": "2020-12-26T14:20:50.674009Z"
    },
    "papermill": {
     "duration": 6.403915,
     "end_time": "2020-12-26T14:20:50.674199",
     "exception": false,
     "start_time": "2020-12-26T14:20:44.270284",
     "status": "completed"
    },
    "tags": []
   },
   "outputs": [
    {
     "name": "stderr",
     "output_type": "stream",
     "text": [
      "/opt/conda/lib/python3.7/site-packages/ipykernel_launcher.py:1: DataConversionWarning: A column-vector y was passed when a 1d array was expected. Please change the shape of y to (n_samples,), for example using ravel().\n",
      "  \"\"\"Entry point for launching an IPython kernel.\n"
     ]
    },
    {
     "name": "stdout",
     "output_type": "stream",
     "text": [
      "              precision    recall  f1-score   support\n",
      "\n",
      "           0       0.79      0.95      0.86     14667\n",
      "           1       0.61      0.25      0.35      4890\n",
      "\n",
      "    accuracy                           0.77     19557\n",
      "   macro avg       0.70      0.60      0.61     19557\n",
      "weighted avg       0.75      0.77      0.73     19557\n",
      "\n"
     ]
    }
   ],
   "source": [
    "rf.fit(X_sc_train, Y_sc_train)\n",
    "Y_rf_pred = rf.predict(X_sc_test)\n",
    "print(classification_report(Y_sc_test, Y_rf_pred))\n",
    "confusion_matrix(Y_sc_test, Y_rf_pred)\n",
    "fpr, tpr, _ = metrics.roc_curve(Y_sc_test, Y_rf_pred)\n",
    "\n",
    "auc_score = metrics.auc(fpr, tpr)\n",
    "df_accur_roc_score_importance.loc['Standardized Random Forest'] = [auc_score]\n",
    "df_accur_score.loc['Standardized Random Forest'] = [metrics.accuracy_score(Y_sc_test, Y_dt_pred)]"
   ]
  },
  {
   "cell_type": "code",
   "execution_count": 62,
   "metadata": {
    "execution": {
     "iopub.execute_input": "2020-12-26T14:20:50.847799Z",
     "iopub.status.busy": "2020-12-26T14:20:50.847106Z",
     "iopub.status.idle": "2020-12-26T14:20:57.117076Z",
     "shell.execute_reply": "2020-12-26T14:20:57.115932Z"
    },
    "papermill": {
     "duration": 6.358766,
     "end_time": "2020-12-26T14:20:57.117306",
     "exception": false,
     "start_time": "2020-12-26T14:20:50.758540",
     "status": "completed"
    },
    "tags": []
   },
   "outputs": [
    {
     "name": "stderr",
     "output_type": "stream",
     "text": [
      "/opt/conda/lib/python3.7/site-packages/ipykernel_launcher.py:1: DataConversionWarning: A column-vector y was passed when a 1d array was expected. Please change the shape of y to (n_samples,), for example using ravel().\n",
      "  \"\"\"Entry point for launching an IPython kernel.\n"
     ]
    },
    {
     "name": "stdout",
     "output_type": "stream",
     "text": [
      "              precision    recall  f1-score   support\n",
      "\n",
      "           0       0.79      0.95      0.86     14667\n",
      "           1       0.61      0.25      0.35      4890\n",
      "\n",
      "    accuracy                           0.77     19557\n",
      "   macro avg       0.70      0.60      0.61     19557\n",
      "weighted avg       0.75      0.77      0.73     19557\n",
      "\n"
     ]
    }
   ],
   "source": [
    "rf.fit(X_rb_train, Y_rb_train)\n",
    "Y_dt_pred = rf.predict(X_rb_test)\n",
    "print(classification_report(Y_rb_test, Y_dt_pred))\n",
    "confusion_matrix(Y_rb_test, Y_dt_pred)\n",
    "fpr, tpr, _ = metrics.roc_curve(Y_rb_test, Y_dt_pred)\n",
    "\n",
    "auc_score = metrics.auc(fpr, tpr)\n",
    "df_accur_roc_score_importance.loc['Robust Random Forest'] = [auc_score]\n",
    "df_accur_score.loc['Robust Random Forest'] = [metrics.accuracy_score(Y_rb_test, Y_dt_pred)]"
   ]
  },
  {
   "cell_type": "code",
   "execution_count": 63,
   "metadata": {
    "execution": {
     "iopub.execute_input": "2020-12-26T14:20:57.295162Z",
     "iopub.status.busy": "2020-12-26T14:20:57.294385Z",
     "iopub.status.idle": "2020-12-26T14:21:03.563657Z",
     "shell.execute_reply": "2020-12-26T14:21:03.562556Z"
    },
    "papermill": {
     "duration": 6.361188,
     "end_time": "2020-12-26T14:21:03.563870",
     "exception": false,
     "start_time": "2020-12-26T14:20:57.202682",
     "status": "completed"
    },
    "tags": []
   },
   "outputs": [
    {
     "name": "stderr",
     "output_type": "stream",
     "text": [
      "/opt/conda/lib/python3.7/site-packages/ipykernel_launcher.py:1: DataConversionWarning: A column-vector y was passed when a 1d array was expected. Please change the shape of y to (n_samples,), for example using ravel().\n",
      "  \"\"\"Entry point for launching an IPython kernel.\n"
     ]
    },
    {
     "name": "stdout",
     "output_type": "stream",
     "text": [
      "              precision    recall  f1-score   support\n",
      "\n",
      "           0       0.79      0.95      0.86     14667\n",
      "           1       0.60      0.24      0.34      4890\n",
      "\n",
      "    accuracy                           0.77     19557\n",
      "   macro avg       0.70      0.59      0.60     19557\n",
      "weighted avg       0.74      0.77      0.73     19557\n",
      "\n"
     ]
    }
   ],
   "source": [
    "rf.fit(X_nm_train, Y_nm_train)\n",
    "Y_dt_pred = rf.predict(X_nm_test)\n",
    "print(classification_report(Y_nm_test, Y_dt_pred))\n",
    "confusion_matrix(Y_nm_test, Y_dt_pred)\n",
    "fpr, tpr, _ = metrics.roc_curve(Y_nm_test, Y_dt_pred)\n",
    "\n",
    "auc_score = metrics.auc(fpr, tpr)\n",
    "df_accur_roc_score_importance.loc['Normalized Random Forest'] = [auc_score]\n",
    "df_accur_score.loc['Normalized Random Forest'] = [metrics.accuracy_score(Y_nm_test, Y_dt_pred)]"
   ]
  },
  {
   "cell_type": "code",
   "execution_count": 64,
   "metadata": {
    "execution": {
     "iopub.execute_input": "2020-12-26T14:21:03.741265Z",
     "iopub.status.busy": "2020-12-26T14:21:03.740585Z",
     "iopub.status.idle": "2020-12-26T14:22:16.625825Z",
     "shell.execute_reply": "2020-12-26T14:22:16.626440Z"
    },
    "papermill": {
     "duration": 72.979026,
     "end_time": "2020-12-26T14:22:16.626626",
     "exception": false,
     "start_time": "2020-12-26T14:21:03.647600",
     "status": "completed"
    },
    "tags": []
   },
   "outputs": [
    {
     "name": "stderr",
     "output_type": "stream",
     "text": [
      "/opt/conda/lib/python3.7/site-packages/ipykernel_launcher.py:3: DataConversionWarning: A column-vector y was passed when a 1d array was expected. Please change the shape of y to (n_samples, ), for example using ravel().\n",
      "  This is separate from the ipykernel package so we can avoid doing imports until\n"
     ]
    },
    {
     "name": "stdout",
     "output_type": "stream",
     "text": [
      "              precision    recall  f1-score   support\n",
      "\n",
      "           0       0.77      0.89      0.83     14667\n",
      "           1       0.40      0.22      0.28      4890\n",
      "\n",
      "    accuracy                           0.72     19557\n",
      "   macro avg       0.59      0.55      0.55     19557\n",
      "weighted avg       0.68      0.72      0.69     19557\n",
      "\n"
     ]
    }
   ],
   "source": [
    "from sklearn.neighbors import KNeighborsClassifier\n",
    "knn = KNeighborsClassifier()\n",
    "knn.fit(X_sc_train, Y_sc_train)\n",
    "Y_dt_pred = knn.predict(X_sc_test)\n",
    "print(classification_report(Y_sc_test, Y_dt_pred))\n",
    "confusion_matrix(Y_sc_test, Y_dt_pred)\n",
    "fpr, tpr, _ = metrics.roc_curve(Y_sc_test, Y_dt_pred)\n",
    "\n",
    "auc_score = metrics.auc(fpr, tpr)\n",
    "df_accur_roc_score_importance.loc['Standardized KNN'] = [auc_score]\n",
    "df_accur_score.loc['Standardized KNN'] = [metrics.accuracy_score(Y_sc_test, Y_dt_pred)]"
   ]
  },
  {
   "cell_type": "code",
   "execution_count": 65,
   "metadata": {
    "execution": {
     "iopub.execute_input": "2020-12-26T14:22:16.806579Z",
     "iopub.status.busy": "2020-12-26T14:22:16.805860Z",
     "iopub.status.idle": "2020-12-26T14:22:51.963433Z",
     "shell.execute_reply": "2020-12-26T14:22:51.964341Z"
    },
    "papermill": {
     "duration": 35.250659,
     "end_time": "2020-12-26T14:22:51.964557",
     "exception": false,
     "start_time": "2020-12-26T14:22:16.713898",
     "status": "completed"
    },
    "tags": []
   },
   "outputs": [
    {
     "name": "stderr",
     "output_type": "stream",
     "text": [
      "/opt/conda/lib/python3.7/site-packages/ipykernel_launcher.py:1: DataConversionWarning: A column-vector y was passed when a 1d array was expected. Please change the shape of y to (n_samples, ), for example using ravel().\n",
      "  \"\"\"Entry point for launching an IPython kernel.\n"
     ]
    },
    {
     "name": "stdout",
     "output_type": "stream",
     "text": [
      "              precision    recall  f1-score   support\n",
      "\n",
      "           0       0.78      0.89      0.83     14667\n",
      "           1       0.42      0.24      0.31      4890\n",
      "\n",
      "    accuracy                           0.73     19557\n",
      "   macro avg       0.60      0.57      0.57     19557\n",
      "weighted avg       0.69      0.73      0.70     19557\n",
      "\n"
     ]
    }
   ],
   "source": [
    "knn.fit(X_rb_train, Y_rb_train)\n",
    "Y_dt_pred = knn.predict(X_rb_test)\n",
    "print(classification_report(Y_rb_test, Y_dt_pred))\n",
    "confusion_matrix(Y_rb_test, Y_dt_pred)\n",
    "fpr, tpr, _ = metrics.roc_curve(Y_rb_test, Y_dt_pred)\n",
    "\n",
    "auc_score = metrics.auc(fpr, tpr)\n",
    "df_accur_roc_score_importance.loc['Robust KNN'] = [auc_score]\n",
    "df_accur_score.loc['Robust KNN'] = [metrics.accuracy_score(Y_rb_test, Y_dt_pred)]"
   ]
  },
  {
   "cell_type": "code",
   "execution_count": 66,
   "metadata": {
    "execution": {
     "iopub.execute_input": "2020-12-26T14:22:52.145968Z",
     "iopub.status.busy": "2020-12-26T14:22:52.144842Z",
     "iopub.status.idle": "2020-12-26T14:23:20.862387Z",
     "shell.execute_reply": "2020-12-26T14:23:20.861706Z"
    },
    "papermill": {
     "duration": 28.812306,
     "end_time": "2020-12-26T14:23:20.862525",
     "exception": false,
     "start_time": "2020-12-26T14:22:52.050219",
     "status": "completed"
    },
    "tags": []
   },
   "outputs": [
    {
     "name": "stderr",
     "output_type": "stream",
     "text": [
      "/opt/conda/lib/python3.7/site-packages/ipykernel_launcher.py:1: DataConversionWarning: A column-vector y was passed when a 1d array was expected. Please change the shape of y to (n_samples, ), for example using ravel().\n",
      "  \"\"\"Entry point for launching an IPython kernel.\n"
     ]
    },
    {
     "name": "stdout",
     "output_type": "stream",
     "text": [
      "              precision    recall  f1-score   support\n",
      "\n",
      "           0       0.77      0.89      0.82     14667\n",
      "           1       0.37      0.20      0.26      4890\n",
      "\n",
      "    accuracy                           0.71     19557\n",
      "   macro avg       0.57      0.54      0.54     19557\n",
      "weighted avg       0.67      0.71      0.68     19557\n",
      "\n"
     ]
    }
   ],
   "source": [
    "knn.fit(X_nm_train, Y_nm_train)\n",
    "Y_dt_pred = knn.predict(X_nm_test)\n",
    "print(classification_report(Y_nm_test, Y_dt_pred))\n",
    "confusion_matrix(Y_nm_test, Y_dt_pred)\n",
    "fpr, tpr, _ = metrics.roc_curve(Y_nm_test, Y_dt_pred)\n",
    "\n",
    "auc_score = metrics.auc(fpr, tpr)\n",
    "df_accur_roc_score_importance.loc['Normalized KNN'] = [auc_score]\n",
    "df_accur_score.loc['Normalized KNN'] = [metrics.accuracy_score(Y_nm_test, Y_dt_pred)]"
   ]
  },
  {
   "cell_type": "code",
   "execution_count": 67,
   "metadata": {
    "execution": {
     "iopub.execute_input": "2020-12-26T14:23:21.050701Z",
     "iopub.status.busy": "2020-12-26T14:23:21.050022Z",
     "iopub.status.idle": "2020-12-26T14:23:29.673005Z",
     "shell.execute_reply": "2020-12-26T14:23:29.673789Z"
    },
    "papermill": {
     "duration": 8.721205,
     "end_time": "2020-12-26T14:23:29.674037",
     "exception": false,
     "start_time": "2020-12-26T14:23:20.952832",
     "status": "completed"
    },
    "tags": []
   },
   "outputs": [
    {
     "name": "stderr",
     "output_type": "stream",
     "text": [
      "/opt/conda/lib/python3.7/site-packages/sklearn/utils/validation.py:72: DataConversionWarning: A column-vector y was passed when a 1d array was expected. Please change the shape of y to (n_samples, ), for example using ravel().\n",
      "  return f(**kwargs)\n"
     ]
    },
    {
     "name": "stdout",
     "output_type": "stream",
     "text": [
      "              precision    recall  f1-score   support\n",
      "\n",
      "           0       0.79      0.95      0.86     14667\n",
      "           1       0.63      0.23      0.34      4890\n",
      "\n",
      "    accuracy                           0.77     19557\n",
      "   macro avg       0.71      0.59      0.60     19557\n",
      "weighted avg       0.75      0.77      0.73     19557\n",
      "\n"
     ]
    }
   ],
   "source": [
    "import xgboost as xgb\n",
    "\n",
    "xgb_model = xgb.XGBClassifier(n_estimators=150,random_state=0,learning_rate=0.1,eta=0.4,booster=\"gbtree\",\n",
    "                              base_score=0.8,colsample_bylevel=0.9009229642844634,gamma=0.49967765132613584,\n",
    "                        max_depth=6,min_child_weight=7,reg_lambda=0.27611902459972926,subsample=0.9300916052594785)\n",
    "xgb_model.fit(X_sc_train, Y_sc_train)\n",
    "Y_dt_pred = xgb_model.predict(X_sc_test)\n",
    "print(classification_report(Y_sc_test, Y_dt_pred))\n",
    "confusion_matrix(Y_sc_test, Y_dt_pred)\n",
    "fpr, tpr, _ = metrics.roc_curve(Y_sc_test, Y_dt_pred)\n",
    "\n",
    "auc_score = metrics.auc(fpr, tpr)\n",
    "df_accur_roc_score_importance.loc['Standardized XGB'] = [auc_score]\n",
    "df_accur_score.loc['Standardized XGB'] = [metrics.accuracy_score(Y_sc_test, Y_dt_pred)]"
   ]
  },
  {
   "cell_type": "code",
   "execution_count": 68,
   "metadata": {
    "execution": {
     "iopub.execute_input": "2020-12-26T14:23:29.880878Z",
     "iopub.status.busy": "2020-12-26T14:23:29.880062Z",
     "iopub.status.idle": "2020-12-26T14:23:36.766961Z",
     "shell.execute_reply": "2020-12-26T14:23:36.768365Z"
    },
    "papermill": {
     "duration": 6.98424,
     "end_time": "2020-12-26T14:23:36.768590",
     "exception": false,
     "start_time": "2020-12-26T14:23:29.784350",
     "status": "completed"
    },
    "tags": []
   },
   "outputs": [
    {
     "name": "stdout",
     "output_type": "stream",
     "text": [
      "              precision    recall  f1-score   support\n",
      "\n",
      "           0       0.79      0.96      0.86     14667\n",
      "           1       0.64      0.23      0.34      4890\n",
      "\n",
      "    accuracy                           0.78     19557\n",
      "   macro avg       0.72      0.59      0.60     19557\n",
      "weighted avg       0.75      0.78      0.73     19557\n",
      "\n"
     ]
    }
   ],
   "source": [
    "xgb_model.fit(X_rb_train, Y_rb_train)\n",
    "Y_dt_pred = xgb_model.predict(X_rb_test)\n",
    "print(classification_report(Y_rb_test, Y_dt_pred))\n",
    "confusion_matrix(Y_rb_test, Y_dt_pred)\n",
    "fpr, tpr, _ = metrics.roc_curve(Y_rb_test, Y_dt_pred)\n",
    "\n",
    "auc_score = metrics.auc(fpr, tpr)\n",
    "df_accur_roc_score_importance.loc['Robust XGB'] = [auc_score]\n",
    "df_accur_score.loc['Robust XGB'] = [metrics.accuracy_score(Y_rb_test, Y_dt_pred)]"
   ]
  },
  {
   "cell_type": "code",
   "execution_count": 69,
   "metadata": {
    "execution": {
     "iopub.execute_input": "2020-12-26T14:23:36.978441Z",
     "iopub.status.busy": "2020-12-26T14:23:36.977357Z",
     "iopub.status.idle": "2020-12-26T14:23:44.016686Z",
     "shell.execute_reply": "2020-12-26T14:23:44.017490Z"
    },
    "papermill": {
     "duration": 7.138678,
     "end_time": "2020-12-26T14:23:44.017760",
     "exception": false,
     "start_time": "2020-12-26T14:23:36.879082",
     "status": "completed"
    },
    "tags": []
   },
   "outputs": [
    {
     "name": "stdout",
     "output_type": "stream",
     "text": [
      "              precision    recall  f1-score   support\n",
      "\n",
      "           0       0.79      0.95      0.86     14667\n",
      "           1       0.63      0.23      0.34      4890\n",
      "\n",
      "    accuracy                           0.77     19557\n",
      "   macro avg       0.71      0.59      0.60     19557\n",
      "weighted avg       0.75      0.77      0.73     19557\n",
      "\n"
     ]
    }
   ],
   "source": [
    "xgb_model.fit(X_nm_train, Y_nm_train)\n",
    "Y_dt_pred = xgb_model.predict(X_nm_test)\n",
    "print(classification_report(Y_nm_test, Y_dt_pred))\n",
    "confusion_matrix(Y_nm_test, Y_dt_pred)\n",
    "fpr, tpr, _ = metrics.roc_curve(Y_nm_test, Y_dt_pred)\n",
    "\n",
    "auc_score = metrics.auc(fpr, tpr)\n",
    "df_accur_roc_score_importance.loc['Normalized XGB'] = [auc_score]\n",
    "df_accur_score.loc['Normalized XGB'] = [metrics.accuracy_score(Y_nm_test, Y_dt_pred)]"
   ]
  },
  {
   "cell_type": "code",
   "execution_count": 70,
   "metadata": {
    "execution": {
     "iopub.execute_input": "2020-12-26T14:23:44.229556Z",
     "iopub.status.busy": "2020-12-26T14:23:44.228794Z",
     "iopub.status.idle": "2020-12-26T14:23:44.496196Z",
     "shell.execute_reply": "2020-12-26T14:23:44.495533Z"
    },
    "papermill": {
     "duration": 0.365309,
     "end_time": "2020-12-26T14:23:44.496337",
     "exception": false,
     "start_time": "2020-12-26T14:23:44.131028",
     "status": "completed"
    },
    "tags": []
   },
   "outputs": [
    {
     "data": {
      "text/plain": [
       "(array([ 0,  1,  2,  3,  4,  5,  6,  7,  8,  9, 10, 11]),\n",
       " <a list of 12 Text major ticklabel objects>)"
      ]
     },
     "execution_count": 70,
     "metadata": {},
     "output_type": "execute_result"
    },
    {
     "data": {
      "image/png": "[encoded data removed]",
      "text/plain": [
       "<Figure size 1440x576 with 1 Axes>"
      ]
     },
     "metadata": {
      "needs_background": "light"
     },
     "output_type": "display_data"
    }
   ],
   "source": [
    "df_accur_roc_score_importance.sort_values(by=['Roc_Auc_Score'],ascending=False).plot(kind='bar', y='Roc_Auc_Score',figsize=(20,8),color='#79ccb3', rot=0,title=\"Model outputs by roc score\")\n",
    "plt.xticks(rotation='vertical')"
   ]
  },
  {
   "cell_type": "code",
   "execution_count": 71,
   "metadata": {
    "execution": {
     "iopub.execute_input": "2020-12-26T14:23:44.696435Z",
     "iopub.status.busy": "2020-12-26T14:23:44.684025Z",
     "iopub.status.idle": "2020-12-26T14:23:44.937449Z",
     "shell.execute_reply": "2020-12-26T14:23:44.936785Z"
    },
    "papermill": {
     "duration": 0.352641,
     "end_time": "2020-12-26T14:23:44.937570",
     "exception": false,
     "start_time": "2020-12-26T14:23:44.584929",
     "status": "completed"
    },
    "tags": []
   },
   "outputs": [
    {
     "data": {
      "text/plain": [
       "(array([ 0,  1,  2,  3,  4,  5,  6,  7,  8,  9, 10, 11]),\n",
       " <a list of 12 Text major ticklabel objects>)"
      ]
     },
     "execution_count": 71,
     "metadata": {},
     "output_type": "execute_result"
    },
    {
     "data": {
      "image/png": "[encoded data removed]",
      "text/plain": [
       "<Figure size 1440x576 with 1 Axes>"
      ]
     },
     "metadata": {
      "needs_background": "light"
     },
     "output_type": "display_data"
    }
   ],
   "source": [
    "df_accur_score.sort_values(by=['Accuracy_Score'],ascending=False).plot(kind='bar', y='Accuracy_Score',figsize=(20,8),color='#79ccb3', rot=0,title=\"Model outputs by accuracy score\")\n",
    "plt.xticks(rotation='vertical')"
   ]
  },
  {
   "cell_type": "code",
   "execution_count": 72,
   "metadata": {
    "execution": {
     "iopub.execute_input": "2020-12-26T14:23:45.129312Z",
     "iopub.status.busy": "2020-12-26T14:23:45.123698Z",
     "iopub.status.idle": "2020-12-26T14:23:45.134722Z",
     "shell.execute_reply": "2020-12-26T14:23:45.134091Z"
    },
    "papermill": {
     "duration": 0.106896,
     "end_time": "2020-12-26T14:23:45.134857",
     "exception": false,
     "start_time": "2020-12-26T14:23:45.027961",
     "status": "completed"
    },
    "tags": []
   },
   "outputs": [
    {
     "data": {
      "text/html": [
       "<div>\n",
       "<style scoped>\n",
       "    .dataframe tbody tr th:only-of-type {\n",
       "        vertical-align: middle;\n",
       "    }\n",
       "\n",
       "    .dataframe tbody tr th {\n",
       "        vertical-align: top;\n",
       "    }\n",
       "\n",
       "    .dataframe thead th {\n",
       "        text-align: right;\n",
       "    }\n",
       "</style>\n",
       "<table border=\"1\" class=\"dataframe\">\n",
       "  <thead>\n",
       "    <tr style=\"text-align: right;\">\n",
       "      <th></th>\n",
       "      <th>Accuracy_Score</th>\n",
       "    </tr>\n",
       "  </thead>\n",
       "  <tbody>\n",
       "    <tr>\n",
       "      <th>Robust XGB</th>\n",
       "      <td>0.775732</td>\n",
       "    </tr>\n",
       "    <tr>\n",
       "      <th>Standardized XGB</th>\n",
       "      <td>0.773483</td>\n",
       "    </tr>\n",
       "    <tr>\n",
       "      <th>Normalized XGB</th>\n",
       "      <td>0.773380</td>\n",
       "    </tr>\n",
       "    <tr>\n",
       "      <th>Robust Random Forest</th>\n",
       "      <td>0.772511</td>\n",
       "    </tr>\n",
       "    <tr>\n",
       "      <th>Normalized Random Forest</th>\n",
       "      <td>0.770619</td>\n",
       "    </tr>\n",
       "    <tr>\n",
       "      <th>Robust KNN</th>\n",
       "      <td>0.727310</td>\n",
       "    </tr>\n",
       "    <tr>\n",
       "      <th>Standardized KNN</th>\n",
       "      <td>0.721379</td>\n",
       "    </tr>\n",
       "    <tr>\n",
       "      <th>Normalized KNN</th>\n",
       "      <td>0.714527</td>\n",
       "    </tr>\n",
       "    <tr>\n",
       "      <th>Robust Decision Tree</th>\n",
       "      <td>0.705988</td>\n",
       "    </tr>\n",
       "    <tr>\n",
       "      <th>Normalized Decision Tree</th>\n",
       "      <td>0.705988</td>\n",
       "    </tr>\n",
       "    <tr>\n",
       "      <th>Standardized Random Forest</th>\n",
       "      <td>0.705988</td>\n",
       "    </tr>\n",
       "    <tr>\n",
       "      <th>Standardized Decision Tree</th>\n",
       "      <td>0.705476</td>\n",
       "    </tr>\n",
       "  </tbody>\n",
       "</table>\n",
       "</div>"
      ],
      "text/plain": [
       "                            Accuracy_Score\n",
       "Robust XGB                        0.775732\n",
       "Standardized XGB                  0.773483\n",
       "Normalized XGB                    0.773380\n",
       "Robust Random Forest              0.772511\n",
       "Normalized Random Forest          0.770619\n",
       "Robust KNN                        0.727310\n",
       "Standardized KNN                  0.721379\n",
       "Normalized KNN                    0.714527\n",
       "Robust Decision Tree              0.705988\n",
       "Normalized Decision Tree          0.705988\n",
       "Standardized Random Forest        0.705988\n",
       "Standardized Decision Tree        0.705476"
      ]
     },
     "execution_count": 72,
     "metadata": {},
     "output_type": "execute_result"
    }
   ],
   "source": [
    "df_accur_score.sort_values(by = 'Accuracy_Score', ascending = False)"
   ]
  }
 ],
 "metadata": {
  "kernelspec": {
   "display_name": "Python 3",
   "language": "python",
   "name": "python3"
  },
  "language_info": {
   "codemirror_mode": {
    "name": "ipython",
    "version": 3
   },
   "file_extension": ".py",
   "mimetype": "text/x-python",
   "name": "python",
   "nbconvert_exporter": "python",
   "pygments_lexer": "ipython3",
   "version": "3.7.6"
  },
  "papermill": {
   "duration": 211.430303,
   "end_time": "2020-12-26T14:23:45.336914",
   "environment_variables": {},
   "exception": null,
   "input_path": "__notebook__.ipynb",
   "output_path": "__notebook__.ipynb",
   "parameters": {},
   "start_time": "2020-12-26T14:20:13.906611",
   "version": "2.1.0"
  }
 },
 "nbformat": 4,
 "nbformat_minor": 4
}
